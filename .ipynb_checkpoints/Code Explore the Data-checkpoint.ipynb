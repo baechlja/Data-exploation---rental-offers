{
 "cells": [
  {
   "cell_type": "markdown",
   "id": "dd222a96",
   "metadata": {},
   "source": [
    "<h1>Data Exploration"
   ]
  },
  {
   "cell_type": "markdown",
   "id": "ce90a73e",
   "metadata": {},
   "source": [
    "<p>\n",
    "    Der Business Usecase ist:<br>\n",
    "    <ul>\n",
    "        <li>Die Preise in Deutschland zu Zeigen.</li>\n",
    "        <li>Wie haben sie sich über die letzten Jahre Verändert.</li>\n",
    "        <li>Wie verhält sich der Preis im vergleich zu Ballungszentren.</li>\n",
    "        <li>Neben den Geografischenlage, was sind Interesante Attribute für die Geselschafft.</li>  \n",
    "    </ul>\n",
    "</p>"
   ]
  },
  {
   "cell_type": "markdown",
   "id": "69529f73",
   "metadata": {},
   "source": [
    "<h3>Information</h3>\n",
    "Eliminate: Date, telekomHybridUploadSpeed, noParkSpaces, heatingCosts, energyEfficiencyClass, lastRefurbish, electricityBasePrice, electricityKwhPrice,\n",
    "\n",
    "Make a Seperate Thing: Description, Facilities\n",
    "\n",
    "Make a Seperate Thing: Do a Card with Regio 1,2,3"
   ]
  },
  {
   "cell_type": "markdown",
   "id": "59c2e131",
   "metadata": {},
   "source": [
    "<h2>First Data Contact"
   ]
  },
  {
   "cell_type": "code",
   "execution_count": 1,
   "id": "2c23c661",
   "metadata": {},
   "outputs": [],
   "source": [
    "#import \n",
    "import numpy as np\n",
    "import pandas as pd\n",
    "import seaborn as sns\n",
    "import matplotlib.pyplot as plt\n",
    "from scipy import stats\n",
    "import urllib.parse\n",
    "import time"
   ]
  },
  {
   "cell_type": "code",
   "execution_count": 2,
   "id": "5bdfa92a",
   "metadata": {},
   "outputs": [
    {
     "data": {
      "text/html": [
       "<div>\n",
       "<style scoped>\n",
       "    .dataframe tbody tr th:only-of-type {\n",
       "        vertical-align: middle;\n",
       "    }\n",
       "\n",
       "    .dataframe tbody tr th {\n",
       "        vertical-align: top;\n",
       "    }\n",
       "\n",
       "    .dataframe thead th {\n",
       "        text-align: right;\n",
       "    }\n",
       "</style>\n",
       "<table border=\"1\" class=\"dataframe\">\n",
       "  <thead>\n",
       "    <tr style=\"text-align: right;\">\n",
       "      <th></th>\n",
       "      <th>regio1</th>\n",
       "      <th>serviceCharge</th>\n",
       "      <th>heatingType</th>\n",
       "      <th>telekomTvOffer</th>\n",
       "      <th>telekomHybridUploadSpeed</th>\n",
       "      <th>newlyConst</th>\n",
       "      <th>balcony</th>\n",
       "      <th>picturecount</th>\n",
       "      <th>pricetrend</th>\n",
       "      <th>telekomUploadSpeed</th>\n",
       "      <th>totalRent</th>\n",
       "      <th>yearConstructed</th>\n",
       "      <th>scoutId</th>\n",
       "      <th>noParkSpaces</th>\n",
       "      <th>firingTypes</th>\n",
       "      <th>hasKitchen</th>\n",
       "      <th>geo_bln</th>\n",
       "      <th>cellar</th>\n",
       "      <th>yearConstructedRange</th>\n",
       "      <th>baseRent</th>\n",
       "      <th>houseNumber</th>\n",
       "      <th>livingSpace</th>\n",
       "      <th>geo_krs</th>\n",
       "      <th>condition</th>\n",
       "      <th>interiorQual</th>\n",
       "      <th>petsAllowed</th>\n",
       "      <th>street</th>\n",
       "      <th>streetPlain</th>\n",
       "      <th>lift</th>\n",
       "      <th>baseRentRange</th>\n",
       "      <th>typeOfFlat</th>\n",
       "      <th>geo_plz</th>\n",
       "      <th>noRooms</th>\n",
       "      <th>thermalChar</th>\n",
       "      <th>floor</th>\n",
       "      <th>numberOfFloors</th>\n",
       "      <th>noRoomsRange</th>\n",
       "      <th>garden</th>\n",
       "      <th>livingSpaceRange</th>\n",
       "      <th>regio2</th>\n",
       "      <th>regio3</th>\n",
       "      <th>description</th>\n",
       "      <th>facilities</th>\n",
       "      <th>heatingCosts</th>\n",
       "      <th>energyEfficiencyClass</th>\n",
       "      <th>lastRefurbish</th>\n",
       "      <th>electricityBasePrice</th>\n",
       "      <th>electricityKwhPrice</th>\n",
       "      <th>date</th>\n",
       "    </tr>\n",
       "  </thead>\n",
       "  <tbody>\n",
       "    <tr>\n",
       "      <th>0</th>\n",
       "      <td>Nordrhein_Westfalen</td>\n",
       "      <td>245.00</td>\n",
       "      <td>central_heating</td>\n",
       "      <td>ONE_YEAR_FREE</td>\n",
       "      <td>NaN</td>\n",
       "      <td>False</td>\n",
       "      <td>False</td>\n",
       "      <td>6</td>\n",
       "      <td>4.62</td>\n",
       "      <td>10.0</td>\n",
       "      <td>840.0</td>\n",
       "      <td>1965.0</td>\n",
       "      <td>96107057</td>\n",
       "      <td>1.0</td>\n",
       "      <td>oil</td>\n",
       "      <td>False</td>\n",
       "      <td>Nordrhein_Westfalen</td>\n",
       "      <td>True</td>\n",
       "      <td>2.0</td>\n",
       "      <td>595.0</td>\n",
       "      <td>244</td>\n",
       "      <td>86.00</td>\n",
       "      <td>Dortmund</td>\n",
       "      <td>well_kept</td>\n",
       "      <td>normal</td>\n",
       "      <td>NaN</td>\n",
       "      <td>Sch&amp;uuml;ruferstra&amp;szlig;e</td>\n",
       "      <td>Schüruferstraße</td>\n",
       "      <td>False</td>\n",
       "      <td>4</td>\n",
       "      <td>ground_floor</td>\n",
       "      <td>44269</td>\n",
       "      <td>4.0</td>\n",
       "      <td>181.4</td>\n",
       "      <td>1.0</td>\n",
       "      <td>3.0</td>\n",
       "      <td>4</td>\n",
       "      <td>True</td>\n",
       "      <td>4</td>\n",
       "      <td>Dortmund</td>\n",
       "      <td>Schüren</td>\n",
       "      <td>Die ebenerdig zu erreichende Erdgeschosswohnun...</td>\n",
       "      <td>Die Wohnung ist mit Laminat ausgelegt. Das Bad...</td>\n",
       "      <td>NaN</td>\n",
       "      <td>NaN</td>\n",
       "      <td>NaN</td>\n",
       "      <td>NaN</td>\n",
       "      <td>NaN</td>\n",
       "      <td>May19</td>\n",
       "    </tr>\n",
       "    <tr>\n",
       "      <th>1</th>\n",
       "      <td>Rheinland_Pfalz</td>\n",
       "      <td>134.00</td>\n",
       "      <td>self_contained_central_heating</td>\n",
       "      <td>ONE_YEAR_FREE</td>\n",
       "      <td>NaN</td>\n",
       "      <td>False</td>\n",
       "      <td>True</td>\n",
       "      <td>8</td>\n",
       "      <td>3.47</td>\n",
       "      <td>10.0</td>\n",
       "      <td>NaN</td>\n",
       "      <td>1871.0</td>\n",
       "      <td>111378734</td>\n",
       "      <td>2.0</td>\n",
       "      <td>gas</td>\n",
       "      <td>False</td>\n",
       "      <td>Rheinland_Pfalz</td>\n",
       "      <td>False</td>\n",
       "      <td>1.0</td>\n",
       "      <td>800.0</td>\n",
       "      <td>NaN</td>\n",
       "      <td>89.00</td>\n",
       "      <td>Rhein_Pfalz_Kreis</td>\n",
       "      <td>refurbished</td>\n",
       "      <td>normal</td>\n",
       "      <td>no</td>\n",
       "      <td>no_information</td>\n",
       "      <td>NaN</td>\n",
       "      <td>False</td>\n",
       "      <td>5</td>\n",
       "      <td>ground_floor</td>\n",
       "      <td>67459</td>\n",
       "      <td>3.0</td>\n",
       "      <td>NaN</td>\n",
       "      <td>NaN</td>\n",
       "      <td>NaN</td>\n",
       "      <td>3</td>\n",
       "      <td>False</td>\n",
       "      <td>4</td>\n",
       "      <td>Rhein_Pfalz_Kreis</td>\n",
       "      <td>Böhl_Iggelheim</td>\n",
       "      <td>Alles neu macht der Mai – so kann es auch für ...</td>\n",
       "      <td>NaN</td>\n",
       "      <td>NaN</td>\n",
       "      <td>NaN</td>\n",
       "      <td>2019.0</td>\n",
       "      <td>NaN</td>\n",
       "      <td>NaN</td>\n",
       "      <td>May19</td>\n",
       "    </tr>\n",
       "    <tr>\n",
       "      <th>2</th>\n",
       "      <td>Sachsen</td>\n",
       "      <td>255.00</td>\n",
       "      <td>floor_heating</td>\n",
       "      <td>ONE_YEAR_FREE</td>\n",
       "      <td>10.0</td>\n",
       "      <td>True</td>\n",
       "      <td>True</td>\n",
       "      <td>8</td>\n",
       "      <td>2.72</td>\n",
       "      <td>2.4</td>\n",
       "      <td>1300.0</td>\n",
       "      <td>2019.0</td>\n",
       "      <td>113147523</td>\n",
       "      <td>1.0</td>\n",
       "      <td>NaN</td>\n",
       "      <td>False</td>\n",
       "      <td>Sachsen</td>\n",
       "      <td>True</td>\n",
       "      <td>9.0</td>\n",
       "      <td>965.0</td>\n",
       "      <td>4</td>\n",
       "      <td>83.80</td>\n",
       "      <td>Dresden</td>\n",
       "      <td>first_time_use</td>\n",
       "      <td>sophisticated</td>\n",
       "      <td>NaN</td>\n",
       "      <td>Turnerweg</td>\n",
       "      <td>Turnerweg</td>\n",
       "      <td>True</td>\n",
       "      <td>6</td>\n",
       "      <td>apartment</td>\n",
       "      <td>1097</td>\n",
       "      <td>3.0</td>\n",
       "      <td>NaN</td>\n",
       "      <td>3.0</td>\n",
       "      <td>4.0</td>\n",
       "      <td>3</td>\n",
       "      <td>False</td>\n",
       "      <td>4</td>\n",
       "      <td>Dresden</td>\n",
       "      <td>Äußere_Neustadt_Antonstadt</td>\n",
       "      <td>Der Neubau entsteht im Herzen der Dresdner Neu...</td>\n",
       "      <td>* 9 m² Balkon\\n* Bad mit bodengleicher Dusche,...</td>\n",
       "      <td>NaN</td>\n",
       "      <td>NaN</td>\n",
       "      <td>NaN</td>\n",
       "      <td>NaN</td>\n",
       "      <td>NaN</td>\n",
       "      <td>Oct19</td>\n",
       "    </tr>\n",
       "    <tr>\n",
       "      <th>3</th>\n",
       "      <td>Sachsen</td>\n",
       "      <td>58.15</td>\n",
       "      <td>district_heating</td>\n",
       "      <td>ONE_YEAR_FREE</td>\n",
       "      <td>NaN</td>\n",
       "      <td>False</td>\n",
       "      <td>True</td>\n",
       "      <td>9</td>\n",
       "      <td>1.53</td>\n",
       "      <td>40.0</td>\n",
       "      <td>NaN</td>\n",
       "      <td>1964.0</td>\n",
       "      <td>108890903</td>\n",
       "      <td>NaN</td>\n",
       "      <td>district_heating</td>\n",
       "      <td>False</td>\n",
       "      <td>Sachsen</td>\n",
       "      <td>False</td>\n",
       "      <td>2.0</td>\n",
       "      <td>343.0</td>\n",
       "      <td>35</td>\n",
       "      <td>58.15</td>\n",
       "      <td>Mittelsachsen_Kreis</td>\n",
       "      <td>NaN</td>\n",
       "      <td>NaN</td>\n",
       "      <td>NaN</td>\n",
       "      <td>Gl&amp;uuml;ck-Auf-Stra&amp;szlig;e</td>\n",
       "      <td>Glück-Auf-Straße</td>\n",
       "      <td>False</td>\n",
       "      <td>2</td>\n",
       "      <td>other</td>\n",
       "      <td>9599</td>\n",
       "      <td>3.0</td>\n",
       "      <td>86.0</td>\n",
       "      <td>3.0</td>\n",
       "      <td>NaN</td>\n",
       "      <td>3</td>\n",
       "      <td>False</td>\n",
       "      <td>2</td>\n",
       "      <td>Mittelsachsen_Kreis</td>\n",
       "      <td>Freiberg</td>\n",
       "      <td>Abseits von Lärm und Abgasen in Ihre neue Wohn...</td>\n",
       "      <td>NaN</td>\n",
       "      <td>87.23</td>\n",
       "      <td>NaN</td>\n",
       "      <td>NaN</td>\n",
       "      <td>NaN</td>\n",
       "      <td>NaN</td>\n",
       "      <td>May19</td>\n",
       "    </tr>\n",
       "    <tr>\n",
       "      <th>4</th>\n",
       "      <td>Bremen</td>\n",
       "      <td>138.00</td>\n",
       "      <td>self_contained_central_heating</td>\n",
       "      <td>NaN</td>\n",
       "      <td>NaN</td>\n",
       "      <td>False</td>\n",
       "      <td>True</td>\n",
       "      <td>19</td>\n",
       "      <td>2.46</td>\n",
       "      <td>NaN</td>\n",
       "      <td>903.0</td>\n",
       "      <td>1950.0</td>\n",
       "      <td>114751222</td>\n",
       "      <td>NaN</td>\n",
       "      <td>gas</td>\n",
       "      <td>False</td>\n",
       "      <td>Bremen</td>\n",
       "      <td>False</td>\n",
       "      <td>1.0</td>\n",
       "      <td>765.0</td>\n",
       "      <td>10</td>\n",
       "      <td>84.97</td>\n",
       "      <td>Bremen</td>\n",
       "      <td>refurbished</td>\n",
       "      <td>NaN</td>\n",
       "      <td>NaN</td>\n",
       "      <td>Hermann-Henrich-Meier-Allee</td>\n",
       "      <td>Hermann-Henrich-Meier-Allee</td>\n",
       "      <td>False</td>\n",
       "      <td>5</td>\n",
       "      <td>apartment</td>\n",
       "      <td>28213</td>\n",
       "      <td>3.0</td>\n",
       "      <td>188.9</td>\n",
       "      <td>1.0</td>\n",
       "      <td>NaN</td>\n",
       "      <td>3</td>\n",
       "      <td>False</td>\n",
       "      <td>4</td>\n",
       "      <td>Bremen</td>\n",
       "      <td>Neu_Schwachhausen</td>\n",
       "      <td>Es handelt sich hier um ein saniertes Mehrfami...</td>\n",
       "      <td>Diese Wohnung wurde neu saniert und ist wie fo...</td>\n",
       "      <td>NaN</td>\n",
       "      <td>NaN</td>\n",
       "      <td>NaN</td>\n",
       "      <td>NaN</td>\n",
       "      <td>NaN</td>\n",
       "      <td>Feb20</td>\n",
       "    </tr>\n",
       "  </tbody>\n",
       "</table>\n",
       "</div>"
      ],
      "text/plain": [
       "                regio1  serviceCharge                     heatingType  \\\n",
       "0  Nordrhein_Westfalen         245.00                 central_heating   \n",
       "1      Rheinland_Pfalz         134.00  self_contained_central_heating   \n",
       "2              Sachsen         255.00                   floor_heating   \n",
       "3              Sachsen          58.15                district_heating   \n",
       "4               Bremen         138.00  self_contained_central_heating   \n",
       "\n",
       "  telekomTvOffer  telekomHybridUploadSpeed  newlyConst  balcony  picturecount  \\\n",
       "0  ONE_YEAR_FREE                       NaN       False    False             6   \n",
       "1  ONE_YEAR_FREE                       NaN       False     True             8   \n",
       "2  ONE_YEAR_FREE                      10.0        True     True             8   \n",
       "3  ONE_YEAR_FREE                       NaN       False     True             9   \n",
       "4            NaN                       NaN       False     True            19   \n",
       "\n",
       "   pricetrend  telekomUploadSpeed  totalRent  yearConstructed    scoutId  \\\n",
       "0        4.62                10.0      840.0           1965.0   96107057   \n",
       "1        3.47                10.0        NaN           1871.0  111378734   \n",
       "2        2.72                 2.4     1300.0           2019.0  113147523   \n",
       "3        1.53                40.0        NaN           1964.0  108890903   \n",
       "4        2.46                 NaN      903.0           1950.0  114751222   \n",
       "\n",
       "   noParkSpaces       firingTypes  hasKitchen              geo_bln  cellar  \\\n",
       "0           1.0               oil       False  Nordrhein_Westfalen    True   \n",
       "1           2.0               gas       False      Rheinland_Pfalz   False   \n",
       "2           1.0               NaN       False              Sachsen    True   \n",
       "3           NaN  district_heating       False              Sachsen   False   \n",
       "4           NaN               gas       False               Bremen   False   \n",
       "\n",
       "   yearConstructedRange  baseRent houseNumber  livingSpace  \\\n",
       "0                   2.0     595.0         244        86.00   \n",
       "1                   1.0     800.0         NaN        89.00   \n",
       "2                   9.0     965.0           4        83.80   \n",
       "3                   2.0     343.0          35        58.15   \n",
       "4                   1.0     765.0          10        84.97   \n",
       "\n",
       "               geo_krs       condition   interiorQual petsAllowed  \\\n",
       "0             Dortmund       well_kept         normal         NaN   \n",
       "1    Rhein_Pfalz_Kreis     refurbished         normal          no   \n",
       "2              Dresden  first_time_use  sophisticated         NaN   \n",
       "3  Mittelsachsen_Kreis             NaN            NaN         NaN   \n",
       "4               Bremen     refurbished            NaN         NaN   \n",
       "\n",
       "                        street                  streetPlain   lift  \\\n",
       "0   Sch&uuml;ruferstra&szlig;e              Schüruferstraße  False   \n",
       "1               no_information                          NaN  False   \n",
       "2                    Turnerweg                    Turnerweg   True   \n",
       "3  Gl&uuml;ck-Auf-Stra&szlig;e             Glück-Auf-Straße  False   \n",
       "4  Hermann-Henrich-Meier-Allee  Hermann-Henrich-Meier-Allee  False   \n",
       "\n",
       "   baseRentRange    typeOfFlat  geo_plz  noRooms  thermalChar  floor  \\\n",
       "0              4  ground_floor    44269      4.0        181.4    1.0   \n",
       "1              5  ground_floor    67459      3.0          NaN    NaN   \n",
       "2              6     apartment     1097      3.0          NaN    3.0   \n",
       "3              2         other     9599      3.0         86.0    3.0   \n",
       "4              5     apartment    28213      3.0        188.9    1.0   \n",
       "\n",
       "   numberOfFloors  noRoomsRange  garden  livingSpaceRange  \\\n",
       "0             3.0             4    True                 4   \n",
       "1             NaN             3   False                 4   \n",
       "2             4.0             3   False                 4   \n",
       "3             NaN             3   False                 2   \n",
       "4             NaN             3   False                 4   \n",
       "\n",
       "                regio2                      regio3  \\\n",
       "0             Dortmund                     Schüren   \n",
       "1    Rhein_Pfalz_Kreis              Böhl_Iggelheim   \n",
       "2              Dresden  Äußere_Neustadt_Antonstadt   \n",
       "3  Mittelsachsen_Kreis                    Freiberg   \n",
       "4               Bremen           Neu_Schwachhausen   \n",
       "\n",
       "                                         description  \\\n",
       "0  Die ebenerdig zu erreichende Erdgeschosswohnun...   \n",
       "1  Alles neu macht der Mai – so kann es auch für ...   \n",
       "2  Der Neubau entsteht im Herzen der Dresdner Neu...   \n",
       "3  Abseits von Lärm und Abgasen in Ihre neue Wohn...   \n",
       "4  Es handelt sich hier um ein saniertes Mehrfami...   \n",
       "\n",
       "                                          facilities  heatingCosts  \\\n",
       "0  Die Wohnung ist mit Laminat ausgelegt. Das Bad...           NaN   \n",
       "1                                                NaN           NaN   \n",
       "2  * 9 m² Balkon\\n* Bad mit bodengleicher Dusche,...           NaN   \n",
       "3                                                NaN         87.23   \n",
       "4  Diese Wohnung wurde neu saniert und ist wie fo...           NaN   \n",
       "\n",
       "  energyEfficiencyClass  lastRefurbish  electricityBasePrice  \\\n",
       "0                   NaN            NaN                   NaN   \n",
       "1                   NaN         2019.0                   NaN   \n",
       "2                   NaN            NaN                   NaN   \n",
       "3                   NaN            NaN                   NaN   \n",
       "4                   NaN            NaN                   NaN   \n",
       "\n",
       "   electricityKwhPrice   date  \n",
       "0                  NaN  May19  \n",
       "1                  NaN  May19  \n",
       "2                  NaN  Oct19  \n",
       "3                  NaN  May19  \n",
       "4                  NaN  Feb20  "
      ]
     },
     "execution_count": 2,
     "metadata": {},
     "output_type": "execute_result"
    }
   ],
   "source": [
    "#Load data \n",
    "path = \"immo_data.csv\"\n",
    "df = pd.read_csv(path)\n",
    "pd.set_option('display.max_columns', None)\n",
    "df.head()"
   ]
  },
  {
   "cell_type": "code",
   "execution_count": null,
   "id": "894b52b9",
   "metadata": {},
   "outputs": [],
   "source": [
    "df.info()"
   ]
  },
  {
   "cell_type": "code",
   "execution_count": null,
   "id": "5167a078",
   "metadata": {},
   "outputs": [],
   "source": [
    "df.describe()"
   ]
  },
  {
   "cell_type": "code",
   "execution_count": null,
   "id": "3ae8ea0e",
   "metadata": {
    "scrolled": false
   },
   "outputs": [],
   "source": [
    "correlation_matrix(df)"
   ]
  },
  {
   "cell_type": "markdown",
   "id": "c28ed596",
   "metadata": {},
   "source": [
    "<h2> 1. Data Cleaning </h2>"
   ]
  },
  {
   "cell_type": "markdown",
   "id": "22ab22f0",
   "metadata": {},
   "source": [
    "<h3>Handeling Null Data"
   ]
  },
  {
   "cell_type": "markdown",
   "id": "8d9214cb",
   "metadata": {},
   "source": [
    "<p>It is importand to think about what to do with Null Data and see how much Null there is in a Data Set."
   ]
  },
  {
   "cell_type": "code",
   "execution_count": null,
   "id": "e82e699a",
   "metadata": {
    "scrolled": true
   },
   "outputs": [],
   "source": [
    "df.isna().sum()/len(df)"
   ]
  },
  {
   "cell_type": "code",
   "execution_count": null,
   "id": "0f2e2957",
   "metadata": {},
   "outputs": [],
   "source": [
    "#returns the attributs that have more than 50% null\n",
    "df.columns[((df.isna().sum()/len(df)) > 0.50)]"
   ]
  },
  {
   "cell_type": "markdown",
   "id": "2c84503e",
   "metadata": {},
   "source": [
    "<ul>\n",
    "    <li>telekomHybridUploadSpeed = 83% null (to much null to set with mean and no real corelation to price)\n",
    "    <li>noParkSpaces = 65% (Will be replaced with 0)\n",
    "    <li>heatingCosts = 68% (To big range to change it with mean) ?\n",
    "    <li>energyEfficiencyClass = 71% (To little Corelation and to many missing)\n",
    "    <li>lastRefurbish = 70% (A lot of wrong Data and a hight rate if Nan will be cut)\n",
    "    <li>electricityBasePrice = 82% (Sind seit 2020 veraltet, und viele Fehlende Daten, will be cut)\n",
    "    <li>electricityKwhPrice = 82% (Cut out, small range of Values and to many Nan)\n",
    "</ul>\n",
    "<p> Paralele Auswertung zu einzelen Attributen machen."
   ]
  },
  {
   "cell_type": "code",
   "execution_count": null,
   "id": "7f409601",
   "metadata": {
    "scrolled": true
   },
   "outputs": [],
   "source": [
    "#to see what kind of data is inside if the attributes\n",
    "#set_maker(df,\"noParkSpaces\")\n",
    "df['noParkSpaces'].value_counts()"
   ]
  },
  {
   "cell_type": "code",
   "execution_count": null,
   "id": "48bbc37f",
   "metadata": {
    "scrolled": true
   },
   "outputs": [],
   "source": [
    "#drops Colums\n",
    "df = df.drop(columns=df.columns[((df.isna().sum()/len(df)) > 0.66)])\n",
    "df.columns"
   ]
  },
  {
   "cell_type": "code",
   "execution_count": null,
   "id": "081b84ba",
   "metadata": {},
   "outputs": [],
   "source": [
    "#since No. of Parkingspaces are importat for a Arppartmet I think they would put them in the offering\n",
    "#seting noParkings. fro Nan to 0\n",
    "df[\"noParkSpaces\"] = df[\"noParkSpaces\"].fillna(value=0)"
   ]
  },
  {
   "cell_type": "markdown",
   "id": "5cc069cc",
   "metadata": {},
   "source": [
    "<h3>Handeling Inappropriate and unuseful Data"
   ]
  },
  {
   "cell_type": "code",
   "execution_count": null,
   "id": "bee7bc0b",
   "metadata": {},
   "outputs": [],
   "source": [
    "#drop Data pionts in \"baseRent\" with the Values 0.0\n",
    "df = drop_inappropriate(df,\"baseRent\", 0.0)"
   ]
  },
  {
   "cell_type": "code",
   "execution_count": null,
   "id": "0fa0ae10",
   "metadata": {},
   "outputs": [],
   "source": [
    "#drop Data pionts in \"livingSpace\" with the Values 0.0\n",
    "df = drop_inappropriate(df,\"livingSpace\", 0.0)"
   ]
  },
  {
   "cell_type": "code",
   "execution_count": null,
   "id": "f27ed3d7",
   "metadata": {},
   "outputs": [],
   "source": [
    "#drop Data pionts in \"floor\" with the Values bigger than 50\n",
    "#there are no rental objects higher than 50 floors\n",
    "df = drop_inappropriate_bigger(df,\"floor\", 50)"
   ]
  },
  {
   "cell_type": "code",
   "execution_count": null,
   "id": "3aeb2162",
   "metadata": {},
   "outputs": [],
   "source": [
    "#drop Data pionts in \"numberOfFloors\" with the Values bigger than 50\n",
    "#there are no rental objects higher than 50 floors\n",
    "df = drop_inappropriate_bigger(df,\"numberOfFloors\", 50)"
   ]
  },
  {
   "cell_type": "code",
   "execution_count": null,
   "id": "da721fbf",
   "metadata": {},
   "outputs": [],
   "source": [
    "#drop Data pionts in \"noParkSpaces\" with the Values bigger than 30\n",
    "df = drop_inappropriate_bigger(df,\"noParkSpaces\", 30)"
   ]
  },
  {
   "cell_type": "code",
   "execution_count": null,
   "id": "cea11f92",
   "metadata": {},
   "outputs": [],
   "source": [
    "#Insprect the Dataframe\n",
    "df.head()"
   ]
  },
  {
   "cell_type": "markdown",
   "id": "4038c9e3",
   "metadata": {},
   "source": [
    "<h3> Explanation</h3>\n",
    "    <ul>\n",
    "        <li>description = No need because there are no direct information on the House Price, could be explord in side Project\n",
    "        <li>livingSpaceRange = Is reprecented in other Attributes.\n",
    "        <li>scoutId = Just a Immoscout intern ID\n",
    "        <li>street = Not importat\n",
    "        <li>streetPlain = Same as Steet Name\n",
    "        <li>houseNumber = Not important\n",
    "        <li>date = Just the scraping date.\n",
    "        <li>facilities = Same as Description\n",
    "        <li>totalRent = is just a combination of Rent and serviceCharges, still has no correlation\n",
    "        <li>telekomUploadSpeed = Has no Corralation and makes no sens to keep everyone can choose the Speed they want to pay for"
   ]
  },
  {
   "cell_type": "code",
   "execution_count": null,
   "id": "e79616d3",
   "metadata": {},
   "outputs": [],
   "source": [
    "#drop Attributes that are unimportant \n",
    "df = df.drop(columns=['description','livingSpaceRange','scoutId','street','streetPlain','houseNumber','date','facilities','totalRent','telekomUploadSpeed'])"
   ]
  },
  {
   "cell_type": "markdown",
   "id": "47569dbe",
   "metadata": {},
   "source": [
    "<h3> Handeling Nan Data that can not be fild with mean </h3>"
   ]
  },
  {
   "cell_type": "code",
   "execution_count": null,
   "id": "44fc9a38",
   "metadata": {},
   "outputs": [],
   "source": [
    "pd_hist(df,50)"
   ]
  },
  {
   "cell_type": "code",
   "execution_count": null,
   "id": "d3e27637",
   "metadata": {
    "scrolled": false
   },
   "outputs": [],
   "source": [
    "df = drop_inappropriate_bigger(df,\"serviceCharge\", 1000)\n",
    "df = drop_inappropriate_smaller(df,\"serviceCharge\", 0)\n",
    "#should i up the number for smaller?"
   ]
  },
  {
   "cell_type": "code",
   "execution_count": null,
   "id": "12128a57",
   "metadata": {},
   "outputs": [],
   "source": [
    "df = drop_inappropriate_bigger(df,\"livingSpace\", 500)\n",
    "#should i cut out all sqm over 10.000 found no rental object that that big, also it should be just the living area so 500-1000 would also possible to cut out"
   ]
  },
  {
   "cell_type": "code",
   "execution_count": null,
   "id": "b3ef91db",
   "metadata": {},
   "outputs": [],
   "source": [
    "df = drop_inappropriate_bigger(df,\"noRooms\", 20)"
   ]
  },
  {
   "cell_type": "code",
   "execution_count": null,
   "id": "a80fc810",
   "metadata": {},
   "outputs": [],
   "source": [
    "#drop Data pionts in \"baseRent\" with the Values bigger than 10.000€\n",
    "df = drop_inappropriate_bigger(df,\"baseRent\", 10000)"
   ]
  },
  {
   "cell_type": "code",
   "execution_count": null,
   "id": "991c24fd",
   "metadata": {},
   "outputs": [],
   "source": [
    "df = drop_inappropriate_smaller(df,\"yearConstructed\", 1900) #1900\n",
    "df = drop_inappropriate_bigger(df,\"yearConstructed\", 2025) #2025"
   ]
  },
  {
   "cell_type": "code",
   "execution_count": null,
   "id": "2fd6a540",
   "metadata": {},
   "outputs": [],
   "source": [
    "#it is important on witch floor the flat is as long as it's not on 0 (ground Floor) so every Nan will be replaced with 0 \n",
    "#because taking a mean or median would not make sence\n",
    "#some people have put 1 for the ground floor and some 0 soo? What to do?\n",
    "df[\"floor\"] = df[\"floor\"].fillna(value=0)"
   ]
  },
  {
   "cell_type": "code",
   "execution_count": null,
   "id": "b6ede389",
   "metadata": {
    "scrolled": true
   },
   "outputs": [],
   "source": [
    "df[\"petsAllowed\"].value_counts()"
   ]
  },
  {
   "cell_type": "code",
   "execution_count": null,
   "id": "e0ad1004",
   "metadata": {},
   "outputs": [],
   "source": [
    "df[\"petsAllowed\"] = df[\"petsAllowed\"].fillna(value='no')\n",
    "df[\"petsAllowed\"] = df[\"petsAllowed\"].replace(['no'],False)\n",
    "df[\"petsAllowed\"] = df[\"petsAllowed\"].replace(['yes'],True)"
   ]
  },
  {
   "cell_type": "code",
   "execution_count": null,
   "id": "19b7b2c2",
   "metadata": {},
   "outputs": [],
   "source": [
    "pd_hist(df,50,\"floor\")"
   ]
  },
  {
   "cell_type": "code",
   "execution_count": null,
   "id": "ab3a2618",
   "metadata": {
    "scrolled": false
   },
   "outputs": [],
   "source": [
    "correlation_matrix(df)"
   ]
  },
  {
   "cell_type": "markdown",
   "id": "7f74c242",
   "metadata": {},
   "source": [
    "<h3>Fill Numeric Nan with mean"
   ]
  },
  {
   "cell_type": "code",
   "execution_count": null,
   "id": "5147ac4d",
   "metadata": {},
   "outputs": [],
   "source": [
    "#See the Mean of the Data\n",
    "df._get_numeric_data().mean()"
   ]
  },
  {
   "cell_type": "code",
   "execution_count": null,
   "id": "71752f91",
   "metadata": {},
   "outputs": [],
   "source": [
    "df._get_numeric_data().median()"
   ]
  },
  {
   "cell_type": "code",
   "execution_count": null,
   "id": "2ea6c687",
   "metadata": {},
   "outputs": [],
   "source": [
    "df._get_numeric_data().isna().sum()"
   ]
  },
  {
   "cell_type": "code",
   "execution_count": null,
   "id": "b5fe95ba",
   "metadata": {},
   "outputs": [],
   "source": [
    "#fill the Nan\n",
    "df.fillna(df._get_numeric_data().mean(),inplace = True)"
   ]
  },
  {
   "cell_type": "code",
   "execution_count": null,
   "id": "f14be330",
   "metadata": {
    "scrolled": false
   },
   "outputs": [],
   "source": [
    "#See how many Nan are still in the Data Frame\n",
    "df.isna().sum()"
   ]
  },
  {
   "cell_type": "code",
   "execution_count": null,
   "id": "20739338",
   "metadata": {
    "scrolled": false
   },
   "outputs": [],
   "source": [
    "df.info()"
   ]
  },
  {
   "cell_type": "markdown",
   "id": "5bf099a3",
   "metadata": {},
   "source": [
    "<p> Numeric Data (21) : \n",
    "  <ul>\n",
    "    <li> serviceCharge </li>\n",
    "    <li> picturecount </li>\n",
    "    <li> pricetrend </li>\n",
    "    <li> yearConstructed </li>\n",
    "    <li> noParkSpaces </li>\n",
    "    <li> yearConstructedRange </li>\n",
    "    <li> baseRent </li>\n",
    "    <li> livingSpace </li>\n",
    "    <li> baseRentRange </li>\n",
    "    <li> geo_plz </li>\n",
    "    <li> noRooms </li>\n",
    "    <li> thermalChar </li>\n",
    "    <li> floor </li>\n",
    "    <li> numberOfFloors </li>\n",
    "    <li> noRoomsRange </li>\n",
    "    <li> newlyConst </li>\n",
    "    <li> balcony </li>\n",
    "    <li> hasKitchen </li>\n",
    "    <li> cellar </li>\n",
    "    <li> lift </li>\n",
    "    <li> garden </li>\n",
    "   </ul>\n",
    "  Catgorical Data (12):\n",
    "    <ul>\n",
    "    <li> regio1 </li>\n",
    "    <li> heatingType </li>\n",
    "    <li> telekomTvOffer </li>\n",
    "    <li> firingTypes</li>\n",
    "    <li> geo_bln </li>\n",
    "    <li> geo_krs </li>\n",
    "    <li> condition </li>\n",
    "    <li> interiorQual </li>\n",
    "    <li> petsAllowed </li>\n",
    "    <li> typeOfFlat </li>\n",
    "    <li> regio2 </li>\n",
    "    <li> regio3 </li>\n",
    "     </ul>            "
   ]
  },
  {
   "cell_type": "code",
   "execution_count": null,
   "id": "7a8ac59c",
   "metadata": {
    "scrolled": false
   },
   "outputs": [],
   "source": [
    "df.head(20)"
   ]
  },
  {
   "cell_type": "markdown",
   "id": "b8cb8e85",
   "metadata": {},
   "source": [
    "<h2> 2. Data Visualization <h2>"
   ]
  },
  {
   "cell_type": "code",
   "execution_count": null,
   "id": "96fe2a22",
   "metadata": {},
   "outputs": [],
   "source": [
    "hist = df.hist(bins=100,figsize=(20,20))"
   ]
  },
  {
   "cell_type": "code",
   "execution_count": null,
   "id": "f59768bf",
   "metadata": {},
   "outputs": [],
   "source": [
    "df.columns"
   ]
  },
  {
   "cell_type": "code",
   "execution_count": null,
   "id": "05f07de6",
   "metadata": {
    "scrolled": true
   },
   "outputs": [],
   "source": [
    "#displot(df,\"noParkSpaces\",\"baseRent\")"
   ]
  },
  {
   "cell_type": "markdown",
   "id": "e834b0bc",
   "metadata": {},
   "source": [
    "<h3> Development of rental prices in relation to the variables with the highest correlations </h3>\n",
    "    <p>\n",
    "    <li> Living Space \n",
    "    <li> Service Charge "
   ]
  },
  {
   "cell_type": "code",
   "execution_count": null,
   "id": "c8c96b7f",
   "metadata": {},
   "outputs": [],
   "source": [
    "sns.regplot(x='livingSpace', y='baseRent', data=df)"
   ]
  },
  {
   "cell_type": "code",
   "execution_count": null,
   "id": "bf5813d7",
   "metadata": {},
   "outputs": [],
   "source": [
    "sns.regplot(x = 'serviceCharge', y= 'baseRent', data=df)"
   ]
  },
  {
   "cell_type": "markdown",
   "id": "6345d450",
   "metadata": {},
   "source": [
    "<h3> Rental prices in comparison of the German states </h3>"
   ]
  },
  {
   "cell_type": "code",
   "execution_count": null,
   "id": "7f8679b8",
   "metadata": {},
   "outputs": [],
   "source": [
    "plt.figure(figsize=(20,10))\n",
    "\n",
    "sns.barplot(x=df.regio1, y=df.baseRent, ci = None)\n",
    "plt.ylim([25, 1250])\n",
    "plt.xticks(rotation='vertical')\n",
    "plt.show()"
   ]
  },
  {
   "cell_type": "markdown",
   "id": "517c2422",
   "metadata": {},
   "source": [
    "<h2> 3. Data Prediction </h2>"
   ]
  },
  {
   "cell_type": "markdown",
   "id": "756a5b0e",
   "metadata": {},
   "source": [
    "<h3> Handeling Categorical Data </h3>"
   ]
  },
  {
   "cell_type": "code",
   "execution_count": null,
   "id": "96efbd75",
   "metadata": {},
   "outputs": [],
   "source": [
    "#--> Need to eliminate some categorical features\n",
    "categorical_columns = []\n",
    "for cols in df.columns:\n",
    "    if df[cols].dtype == 'object':\n",
    "        categorical_columns.append(cols)\n",
    "        \n",
    "categorical_columns"
   ]
  },
  {
   "cell_type": "code",
   "execution_count": null,
   "id": "79438ef4",
   "metadata": {},
   "outputs": [],
   "source": [
    "df['heatingType'].value_counts()"
   ]
  },
  {
   "cell_type": "code",
   "execution_count": null,
   "id": "0b646fbd",
   "metadata": {},
   "outputs": [],
   "source": [
    "df['telekomTvOffer'].value_counts()"
   ]
  },
  {
   "cell_type": "code",
   "execution_count": null,
   "id": "86571ed4",
   "metadata": {},
   "outputs": [],
   "source": [
    "df['firingTypes'].value_counts()"
   ]
  },
  {
   "cell_type": "code",
   "execution_count": null,
   "id": "bf55ab7b",
   "metadata": {},
   "outputs": [],
   "source": [
    "df['condition'].value_counts()"
   ]
  },
  {
   "cell_type": "code",
   "execution_count": null,
   "id": "a16786b6",
   "metadata": {},
   "outputs": [],
   "source": [
    "df['interiorQual'].value_counts()"
   ]
  },
  {
   "cell_type": "code",
   "execution_count": null,
   "id": "1d9a32e3",
   "metadata": {},
   "outputs": [],
   "source": [
    "df['typeOfFlat'].value_counts()"
   ]
  },
  {
   "cell_type": "code",
   "execution_count": null,
   "id": "9f8628e8",
   "metadata": {},
   "outputs": [],
   "source": [
    "df = df.drop(columns=[\"regio1\", \"regio2\", \"regio3\", \"geo_bln\", \"geo_krs\", \"petsAllowed\", \"heatingType\", \"firingTypes\", \"typeOfFlat\"])"
   ]
  },
  {
   "cell_type": "markdown",
   "id": "2887f6cf",
   "metadata": {},
   "source": [
    "<h4> Explanation</h4>\n",
    "</br>\n",
    "    Droping:\n",
    "    <ul>\n",
    "        <li>regio1, regio2, regio3, geo_bln, geo_krs = Too many categories and already analized with the map\n",
    "        <li>petsAllowed = Not relevant for all people --> not all people have pets\n",
    "        <li>heatingType = Too many categories\n",
    "        <li>firingTypes = Too many categories\n",
    "        <li>TypeOfFlat = Category Other has 8913 values, this category is useless\n",
    "   </ul>\n",
    "   Remaining:\n",
    "   <ul>\n",
    "    <li>telekomTvOffer\n",
    "    <li>condition \n",
    "    <li>InteriorQual   \n",
    "            \n",
    "       "
   ]
  },
  {
   "cell_type": "code",
   "execution_count": null,
   "id": "5278a55d",
   "metadata": {},
   "outputs": [],
   "source": [
    "categorical_columns = []\n",
    "for cols in df.columns:\n",
    "    if df[cols].dtype == 'object':\n",
    "        categorical_columns.append(cols)\n",
    "        \n",
    "categorical_columns"
   ]
  },
  {
   "cell_type": "code",
   "execution_count": null,
   "id": "437b63ea",
   "metadata": {},
   "outputs": [],
   "source": [
    "dummies_feature = pd.get_dummies(df[categorical_columns])\n",
    "dummies_feature.head()"
   ]
  },
  {
   "cell_type": "code",
   "execution_count": null,
   "id": "4d75eab8",
   "metadata": {},
   "outputs": [],
   "source": [
    "df = pd.concat([df, dummies_feature], axis=1)\n",
    "df.head()"
   ]
  },
  {
   "cell_type": "code",
   "execution_count": null,
   "id": "b0e49acc",
   "metadata": {},
   "outputs": [],
   "source": [
    "df = df.drop(categorical_columns,axis=1)"
   ]
  },
  {
   "cell_type": "code",
   "execution_count": null,
   "id": "abafe928",
   "metadata": {},
   "outputs": [],
   "source": [
    "X=df.copy()\n",
    "y = np.log(df['baseRent'])\n",
    "\n",
    "X.drop(['baseRent'],axis=1,inplace = True)"
   ]
  },
  {
   "cell_type": "markdown",
   "id": "6aba1342",
   "metadata": {},
   "source": [
    "## First Price Prediction System"
   ]
  },
  {
   "cell_type": "code",
   "execution_count": null,
   "id": "2b1717ae",
   "metadata": {},
   "outputs": [],
   "source": [
    "from sklearn.linear_model import LinearRegression\n",
    "from sklearn import linear_model\n",
    "from sklearn.model_selection import train_test_split\n"
   ]
  },
  {
   "cell_type": "code",
   "execution_count": null,
   "id": "821a62b2",
   "metadata": {},
   "outputs": [],
   "source": [
    "df.head()"
   ]
  },
  {
   "cell_type": "code",
   "execution_count": null,
   "id": "64d1c1b1",
   "metadata": {},
   "outputs": [],
   "source": [
    "# what to do whit \"petsAllowed\" there is True False and Maybe\n",
    "X = np.asarray(df[['serviceCharge','newlyConst', 'balcony', 'picturecount', 'pricetrend','yearConstructed', 'noParkSpaces', 'hasKitchen', 'cellar', 'yearConstructedRange', 'livingSpace', 'lift','baseRentRange', 'geo_plz', 'noRooms', 'thermalChar','floor', 'numberOfFloors', 'noRoomsRange', 'garden']])\n",
    "y = np.asarray(df['baseRent'])\n",
    "\n",
    "X_train, X_test, y_train, y_test = train_test_split(X, y, test_size=0.33, shuffle= True)"
   ]
  },
  {
   "cell_type": "code",
   "execution_count": null,
   "id": "5da98b95",
   "metadata": {},
   "outputs": [],
   "source": [
    "lineReg = LinearRegression()\n",
    "lineReg.fit(X_train, y_train)\n",
    "print('Score: ', lineReg.score(X_test, y_test))\n",
    "print('Weights: ', lineReg.coef_)\n",
    "\n",
    "plt.plot(lineReg.predict(X_test))\n",
    "plt.plot(y_test)\n",
    "plt.show()"
   ]
  },
  {
   "cell_type": "code",
   "execution_count": null,
   "id": "97f19561",
   "metadata": {},
   "outputs": [],
   "source": [
    "reg = linear_model.Ridge (alpha = .5)\n",
    "reg.fit(X_train, y_train)\n",
    "print('Score: ', reg.score(X_test, y_test))\n",
    "print('Weights: ', reg.coef_)\n",
    "\n",
    "plt.plot(reg.predict(X_test))\n",
    "plt.plot(y_test)\n",
    "plt.show()"
   ]
  },
  {
   "cell_type": "code",
   "execution_count": null,
   "id": "04080dc2",
   "metadata": {},
   "outputs": [],
   "source": [
    "df_test = df[['serviceCharge','newlyConst', 'balcony', 'picturecount', 'pricetrend','yearConstructed', 'noParkSpaces', 'hasKitchen', 'cellar', 'yearConstructedRange', 'livingSpace', 'lift','baseRentRange', 'geo_plz', 'noRooms', 'thermalChar','floor', 'numberOfFloors', 'noRoomsRange', 'garden']]\n",
    "df_pred = df_test.head(5)\n",
    "reg.predict(df_pred)\n",
    "#reg.predict([[255,  True, True,  8,  2.72, 2019, 1, False, True, 9.0, 83.8, True, 6, 1097, 3.0, 114.6, 3.0, 4, 3, False]])"
   ]
  },
  {
   "cell_type": "code",
   "execution_count": null,
   "id": "10628832",
   "metadata": {},
   "outputs": [],
   "source": [
    "df.head(5)"
   ]
  },
  {
   "cell_type": "markdown",
   "id": "c9beb224",
   "metadata": {},
   "source": [
    "# Decision Tree"
   ]
  },
  {
   "cell_type": "code",
   "execution_count": null,
   "id": "5858c759",
   "metadata": {},
   "outputs": [],
   "source": [
    "from sklearn.tree import DecisionTreeRegressor"
   ]
  },
  {
   "cell_type": "code",
   "execution_count": null,
   "id": "a5b0c462",
   "metadata": {},
   "outputs": [],
   "source": [
    "# Fit regression model\n",
    "regr1 = DecisionTreeRegressor(max_depth=2)\n",
    "regr_2 = DecisionTreeRegressor(max_depth=5)\n",
    "regr_1.fit(X_train, y_train)\n",
    "regr_2.fit(X_train, y_train)\n"
   ]
  },
  {
   "cell_type": "code",
   "execution_count": null,
   "id": "faf56bd3",
   "metadata": {},
   "outputs": [],
   "source": [
    "# Predict\n",
    "prediction_1 = regr_1.predict(df_pred)\n",
    "prediction_2 = regr_2.predict(df_pred)\n"
   ]
  },
  {
   "cell_type": "code",
   "execution_count": null,
   "id": "62eebdd5",
   "metadata": {},
   "outputs": [],
   "source": []
  },
  {
   "cell_type": "markdown",
   "id": "1ec0e4b1",
   "metadata": {},
   "source": [
    "## Map of Germany"
   ]
  },
  {
   "cell_type": "code",
   "execution_count": null,
   "id": "69b57ef1",
   "metadata": {
    "scrolled": false
   },
   "outputs": [],
   "source": [
    "#Load Location Data\n",
    "path_plz = \"plz_geocoord.csv\"\n",
    "df_plz = pd.read_csv(path_plz)\n",
    "pd.set_option('display.max_columns', None)\n",
    "df_plz.columns = ['plz', 'lat', 'lon']\n",
    "df_plz = df_plz.set_index('plz')\n",
    "df_plz.head(3)"
   ]
  },
  {
   "cell_type": "code",
   "execution_count": null,
   "id": "866b9176",
   "metadata": {},
   "outputs": [],
   "source": [
    "test_df = df.head(1000)"
   ]
  },
  {
   "cell_type": "code",
   "execution_count": null,
   "id": "97a2077e",
   "metadata": {},
   "outputs": [],
   "source": [
    "t0 = time.time()\n",
    "for index, row in test_df.iterrows():\n",
    "    lat_lon = get_lat_lon(row[\"geo_plz\"],df_plz)\n",
    "    test_df.loc[index, 'lat'] = lat_lon[0]\n",
    "    test_df.loc[index, 'lon'] = lat_lon[1]\n",
    "\n",
    "t1 = time.time()\n",
    "total = t1-t0\n",
    "\n",
    "print(\"It took {} Sec. to get {} Lat and Lon Data Pionts\".format(total,test_df.shape[0]))\n",
    "    \n",
    "df.head()"
   ]
  },
  {
   "cell_type": "code",
   "execution_count": null,
   "id": "47d9c308",
   "metadata": {},
   "outputs": [],
   "source": [
    "#create coloum\n",
    "df[\"lat\"] = np.nan\n",
    "df[\"lon\"] = np.nan\n",
    "df.head()"
   ]
  },
  {
   "cell_type": "code",
   "execution_count": null,
   "id": "ffee95d9",
   "metadata": {},
   "outputs": [],
   "source": [
    "t0 = time.time()\n",
    "\n",
    "lat_lon = get_lat_lon(\"Freiburg\")\n",
    "\n",
    "t1 = time.time()\n",
    "total = t1-t0\n",
    "\n",
    "print(\"It took {} Sec. to get {} Lat and Lon Data Pionts\".format(total,df.shape[0]))\n",
    "    \n",
    "#df.head()"
   ]
  },
  {
   "cell_type": "code",
   "execution_count": null,
   "id": "af6ee9fb",
   "metadata": {},
   "outputs": [],
   "source": [
    "test_df = df.head(1000)\n",
    "print(test_df.shape[0])"
   ]
  },
  {
   "cell_type": "code",
   "execution_count": null,
   "id": "83e69b29",
   "metadata": {},
   "outputs": [],
   "source": [
    "t0 = time.time()\n",
    "for index, row in test_df.iterrows():\n",
    "    lat_lon = get_lat_lon(row[\"regio3\"])\n",
    "    df.loc[index, 'lat'] = lat_lon[0]\n",
    "    df.loc[index, 'lon'] = lat_lon[1]\n",
    "\n",
    "t1 = time.time()\n",
    "total = t1-t0\n",
    "\n",
    "print(\"It took {} Sec. to get {} Lat and Lon Data Pionts\".format(total,df.shape[0]))\n",
    "    \n",
    "df.head()"
   ]
  },
  {
   "cell_type": "code",
   "execution_count": null,
   "id": "b5fbc72d",
   "metadata": {},
   "outputs": [],
   "source": [
    "from geopy.extra.rate_limiter import RateLimiter\n",
    "\n",
    "# 1 - conveneint function to delay between geocoding calls\n",
    "geocode = RateLimiter(locator.geocode, min_delay_seconds=1)\n",
    "# 2- - create location column\n",
    "df['location'] = df['ADDRESS'].apply(geocode)\n",
    "# 3 - create longitude, laatitude and altitude from location column (returns tuple)\n",
    "df['point'] = df['location'].apply(lambda loc: tuple(loc.point) if loc else None)\n",
    "# 4 - split point column into latitude, longitude and altitude columns\n",
    "df[['latitude', 'longitude', 'altitude']] = pd.DataFrame(df['point'].tolist(), index=df.index)"
   ]
  },
  {
   "cell_type": "code",
   "execution_count": null,
   "id": "07405fe2",
   "metadata": {
    "scrolled": true
   },
   "outputs": [],
   "source": [
    "df.head(13910)"
   ]
  },
  {
   "cell_type": "markdown",
   "id": "cdeedcdb",
   "metadata": {},
   "source": [
    "## Functions for the Code"
   ]
  },
  {
   "cell_type": "code",
   "execution_count": null,
   "id": "ced1a545",
   "metadata": {},
   "outputs": [],
   "source": [
    "def correlation_matrix(df):\n",
    "    corr = df.corr()\n",
    "    f, ax = plt.subplots(figsize=(20, 20))\n",
    "    sns.heatmap(corr, square = True,fmt='.2f' ,annot = True)\n",
    "    \n",
    "    \n",
    "def set_maker(df,attribute):\n",
    "    array = df[attribute].unique()\n",
    "    help_list = array.tolist()\n",
    "    attribute_set = set(help_list)\n",
    "    print(attribute_set)\n",
    "    if type(help_list[1]) == int or float:\n",
    "        print(\"The mean of this Attribute is {}\".format(df[attribute].mean()))\n",
    "    elif type(help_list[1]) == str:\n",
    "        print(\"Sorry there is no mean to figute out.\")\n",
    "\n",
    "\n",
    "def drop_inappropriate(df, attribute, inappropriate):\n",
    "    i = df[df[attribute] == inappropriate].shape[0]\n",
    "    print(\"There are {} inappropriate Data Points with the Value {}\".format(i,inappropriate))\n",
    "    df = df.drop(df[df[attribute] == inappropriate].index)\n",
    "    print(\"The Datapiont have been Droped, the shape if the Dataframe is now {}\".format(df.shape))\n",
    "    return df\n",
    "\n",
    "def drop_inappropriate_bigger(df, attribute, inappropriate):\n",
    "    i = df[df[attribute] >= inappropriate].shape[0]\n",
    "    print(\"There are {} inappropriate Data Points with the Value bigger than {}\".format(i,inappropriate))\n",
    "    df = df.drop(df[df[attribute] >= inappropriate].index)\n",
    "    print(\"The Datapiont have been Droped, the shape if the Dataframe is now {}\".format(df.shape))\n",
    "    return df\n",
    "\n",
    "def drop_inappropriate_smaller(df, attribute, inappropriate):\n",
    "    i = df[df[attribute] <= inappropriate].shape[0]\n",
    "    print(\"There are {} inappropriate Data Points with the Value smaller than {}\".format(i,inappropriate))\n",
    "    df = df.drop(df[df[attribute] <= inappropriate].index)\n",
    "    print(\"The Datapiont have been Droped, the shape if the Dataframe is now {}\".format(df.shape))\n",
    "    return df\n",
    "\n",
    "def get_lat_lon(plz, df_plz):\n",
    "    try:\n",
    "        lat = df_plz.loc[plz, 'lat']\n",
    "        lon = df_plz.loc[plz, 'lon']  \n",
    "    except:\n",
    "        plz += 1\n",
    "        get_lat_lon(plz,df)\n",
    "        return lat, lon\n",
    "    return lat, lon\n",
    "\n",
    "def displot(df, x, y):\n",
    "    sns.displot(data=df, x=df[y], col=df[x], kde=True)\n",
    "    plt.show()\n",
    "    \n",
    "def pd_hist(df,bins,attribute=False):\n",
    "    if bool(attribute) == True:\n",
    "        test_df = df[attribute]\n",
    "        hist = test_df.hist(bins=bins,figsize=(20,20))\n",
    "    else:\n",
    "        hist = df.hist(bins=bins,figsize=(20,20))"
   ]
  },
  {
   "cell_type": "markdown",
   "id": "2a2523f4",
   "metadata": {},
   "source": [
    "## Old Funtions"
   ]
  },
  {
   "cell_type": "code",
   "execution_count": null,
   "id": "8ffa3353",
   "metadata": {},
   "outputs": [],
   "source": [
    "'''\n",
    "def get_lat_lon(address):\n",
    "    url = 'https://nominatim.openstreetmap.org/search/' + urllib.parse.quote(address) +'?format=json'\n",
    "    response = requests.get(url).json()\n",
    "    if bool(response) == True:\n",
    "        lat = response[0][\"lat\"]\n",
    "        lon = response[0][\"lon\"]\n",
    "    else:\n",
    "        lat = np.nan\n",
    "        lon = np.nan\n",
    "    return lat, lon\n",
    "    \n",
    "    \n",
    "'''"
   ]
  }
 ],
 "metadata": {
  "kernelspec": {
   "display_name": "Python 3 (ipykernel)",
   "language": "python",
   "name": "python3"
  },
  "language_info": {
   "codemirror_mode": {
    "name": "ipython",
    "version": 3
   },
   "file_extension": ".py",
   "mimetype": "text/x-python",
   "name": "python",
   "nbconvert_exporter": "python",
   "pygments_lexer": "ipython3",
   "version": "3.9.5"
  }
 },
 "nbformat": 4,
 "nbformat_minor": 5
}
