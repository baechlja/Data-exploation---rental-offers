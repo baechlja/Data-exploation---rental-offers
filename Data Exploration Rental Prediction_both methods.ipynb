{
 "cells": [
  {
   "cell_type": "markdown",
   "id": "f4f13c03",
   "metadata": {},
   "source": [
    "# Data Exploration Rental Prediction"
   ]
  },
  {
   "cell_type": "markdown",
   "id": "fd6fe8be",
   "metadata": {},
   "source": [
    "### General Information"
   ]
  },
  {
   "cell_type": "markdown",
   "id": "984b594e",
   "metadata": {},
   "source": [
    "<p>\n",
    "    The Business Usecase is:<br>\n",
    "    <ul>\n",
    "        <li>Prediced the Rental Pricing in Germany</li>\n",
    "        <li>What kind of Featurs are the most importaned for a Rental Object</li>\n",
    "        <li>How important is the Geo Location for the Rental Object</li>\n",
    "    </ul>\n",
    "</p>"
   ]
  },
  {
   "cell_type": "markdown",
   "id": "62cf7889",
   "metadata": {},
   "source": [
    "### General Code"
   ]
  },
  {
   "cell_type": "code",
   "execution_count": 1,
   "id": "15586223",
   "metadata": {},
   "outputs": [],
   "source": [
    "#Import \n",
    "import numpy as np\n",
    "import pandas as pd\n",
    "import seaborn as sns\n",
    "import matplotlib.pyplot as plt\n",
    "from scipy import stats\n",
    "import urllib.parse\n",
    "import time\n",
    "from sklearn import preprocessing\n",
    "from sklearn.preprocessing import MaxAbsScaler"
   ]
  },
  {
   "cell_type": "code",
   "execution_count": 2,
   "id": "adb7ca72",
   "metadata": {},
   "outputs": [],
   "source": [
    "#Load data \n",
    "path = \"immo_data.csv\"\n",
    "df = pd.read_csv(path)\n",
    "pd.set_option('display.max_columns', None)"
   ]
  },
  {
   "cell_type": "code",
   "execution_count": 3,
   "id": "8c992719",
   "metadata": {},
   "outputs": [],
   "source": [
    "#Functions for the Code\n",
    "\n",
    "#creates a Correlation Matrix\n",
    "def correlation_matrix(df):\n",
    "    corr = df.corr()\n",
    "    f, ax = plt.subplots(figsize=(20, 20))\n",
    "    sns.heatmap(corr, square = True,fmt='.2f' ,annot = True)\n",
    "    \n",
    "#Creates a Mean for one Dataframe Attribute\n",
    "def set_maker(df,attribute):\n",
    "    array = df[attribute].unique()\n",
    "    help_list = array.tolist()\n",
    "    attribute_set = set(help_list)\n",
    "    print(attribute_set)\n",
    "    if type(help_list[1]) == int or float:\n",
    "        print(\"The mean of this Attribute is {}\".format(df[attribute].mean()))\n",
    "    elif type(help_list[1]) == str:\n",
    "        print(\"Sorry there is no mean to figute out.\")\n",
    "\n",
    "#Drops Inappropriate Data of one specific Value\n",
    "def drop_inappropriate(df, attribute, value):\n",
    "    i = df[df[attribute] == value].shape[0]\n",
    "    print(\"There are {} inappropriate Data Points with the Value {}\".format(i,value))\n",
    "    df = df.drop(df[df[attribute] == value].index)\n",
    "    print(\"The Datapiont have been Droped, the shape if the Dataframe is now {}\".format(df.shape))\n",
    "    return df\n",
    "\n",
    "#Drops Inappropriate Data that is bigger than a specific Value\n",
    "def drop_inappropriate_bigger(df, attribute, value):\n",
    "    i = df[df[attribute] >= value].shape[0]\n",
    "    print(\"There are {} inappropriate Data Points with the Value bigger than {}\".format(i,value))\n",
    "    df = df.drop(df[df[attribute] >= value].index)\n",
    "    print(\"The Datapiont have been Droped, the shape if the Dataframe is now {}\".format(df.shape))\n",
    "    return df\n",
    "\n",
    "#Drops Inappropriate Data that is bigger than a specific Value\n",
    "def drop_inappropriate_smaller(df, attribute, value):\n",
    "    i = df[df[attribute] <= value].shape[0]\n",
    "    print(\"There are {} inappropriate Data Points with the Value smaller than {}\".format(i,value))\n",
    "    df = df.drop(df[df[attribute] <= value].index)\n",
    "    print(\"The Datapiont have been Droped, the shape if the Dataframe is now {}\".format(df.shape))\n",
    "    return df\n",
    "\n",
    "#Returns the all Column Names that have Categorial Data \n",
    "def get_categorical_cols(df):\n",
    "    categorical_columns = []\n",
    "    for cols in df.columns:\n",
    "        if df[cols].dtype == 'object':\n",
    "            categorical_columns.append(cols)\n",
    "    return categorical_columns\n",
    "        \n",
    "#Creates a Dict with Weights and Names of  Prediction\n",
    "def get_weight_dict(df, target_var, model):\n",
    "    columns = []\n",
    "    for cols in df.columns:\n",
    "        columns.append(cols)\n",
    "    columns.remove(target_var)\n",
    "    try:\n",
    "        weights = model.feature_importances_\n",
    "    except AttributeError:\n",
    "        weights = model.coef_\n",
    "    weights_dictionary = dict(zip(columns, weights))\n",
    "    return{k: v for k, v in sorted(weights_dictionary.items(), key=lambda item: item[1], reverse=True)}\n",
    " \n",
    "#Makes a Histogram\n",
    "def pd_hist(df,bins,attribute=False):\n",
    "    if bool(attribute) == True:\n",
    "        test_df = df[attribute]\n",
    "        hist = test_df.hist(bins=bins,figsize=(20,20))\n",
    "    else:\n",
    "        hist = df.hist(bins=bins,figsize=(20,20))\n",
    "\n",
    "#Feature Scales the hole Dataframe\n",
    "def feature_scaling(df):\n",
    "    scaler = MaxAbsScaler()\n",
    "    # calculate the maximum absolute value\n",
    "    scaler.fit(df)\n",
    "    scaler.max_abs_\n",
    "    # transform the data using the parameters calculated by the fit method\n",
    "    scaled_data = scaler.transform(df)\n",
    "    df_scaled = pd.DataFrame(scaled_data, columns=df.columns)\n",
    "    return df_scaled\n",
    "\n",
    "#Changes Categorical Data to Numbers\n",
    "def change_categorical(df):\n",
    "    cat = get_categorical_cols(df)\n",
    "    cat_df = df[cat]\n",
    "    df = df.drop(columns=cat)\n",
    "    cat_df = cat_df.apply(preprocessing.LabelEncoder().fit_transform)\n",
    "    df =  pd.concat([df, cat_df], axis=1)\n",
    "    #df = df.append(cat_df, ignore_index=True)\n",
    "    #f_all = [df, cat_df]    , ignore_index=True\n",
    "    #esult = pd.concat(df_all)\n",
    "    return df\n",
    "\n",
    "#change categorical data to 0 and 1 columns\n",
    "def change_categorical_to_dummies(df):\n",
    "    df_with_dummies = df.copy()\n",
    "    df_with_dummies = df.drop(columns=[\"regio1\", \"regio2\", \"regio3\", \"geo_bln\", \"geo_krs\", \"petsAllowed\", \"heatingType\", \"firingTypes\", \"typeOfFlat\"])\n",
    "    columns = get_categorical_cols(df_with_dummies)\n",
    "    dummies_feature = pd.get_dummies(df_with_dummies[columns])\n",
    "    df_with_dummies = pd.concat([df_with_dummies, dummies_feature], axis=1)\n",
    "    df_with_dummies = df_with_dummies.drop(columns,axis=1)\n",
    "    return df_with_dummies\n",
    "    \n",
    "    \n",
    "#\n",
    "def displot(df, x, y):\n",
    "    sns.displot(data=df, x=df[y], col=df[x], kde=True)\n",
    "    plt.show()\n",
    "   "
   ]
  },
  {
   "cell_type": "markdown",
   "id": "135e66c6",
   "metadata": {},
   "source": [
    "### First Look into the Data"
   ]
  },
  {
   "cell_type": "code",
   "execution_count": 4,
   "id": "49247465",
   "metadata": {},
   "outputs": [
    {
     "name": "stdout",
     "output_type": "stream",
     "text": [
      "<class 'pandas.core.frame.DataFrame'>\n",
      "RangeIndex: 268850 entries, 0 to 268849\n",
      "Data columns (total 49 columns):\n",
      " #   Column                    Non-Null Count   Dtype  \n",
      "---  ------                    --------------   -----  \n",
      " 0   regio1                    268850 non-null  object \n",
      " 1   serviceCharge             261941 non-null  float64\n",
      " 2   heatingType               223994 non-null  object \n",
      " 3   telekomTvOffer            236231 non-null  object \n",
      " 4   telekomHybridUploadSpeed  45020 non-null   float64\n",
      " 5   newlyConst                268850 non-null  bool   \n",
      " 6   balcony                   268850 non-null  bool   \n",
      " 7   picturecount              268850 non-null  int64  \n",
      " 8   pricetrend                267018 non-null  float64\n",
      " 9   telekomUploadSpeed        235492 non-null  float64\n",
      " 10  totalRent                 228333 non-null  float64\n",
      " 11  yearConstructed           211805 non-null  float64\n",
      " 12  scoutId                   268850 non-null  int64  \n",
      " 13  noParkSpaces              93052 non-null   float64\n",
      " 14  firingTypes               211886 non-null  object \n",
      " 15  hasKitchen                268850 non-null  bool   \n",
      " 16  geo_bln                   268850 non-null  object \n",
      " 17  cellar                    268850 non-null  bool   \n",
      " 18  yearConstructedRange      211805 non-null  float64\n",
      " 19  baseRent                  268850 non-null  float64\n",
      " 20  houseNumber               197832 non-null  object \n",
      " 21  livingSpace               268850 non-null  float64\n",
      " 22  geo_krs                   268850 non-null  object \n",
      " 23  condition                 200361 non-null  object \n",
      " 24  interiorQual              156185 non-null  object \n",
      " 25  petsAllowed               154277 non-null  object \n",
      " 26  street                    268850 non-null  object \n",
      " 27  streetPlain               197837 non-null  object \n",
      " 28  lift                      268850 non-null  bool   \n",
      " 29  baseRentRange             268850 non-null  int64  \n",
      " 30  typeOfFlat                232236 non-null  object \n",
      " 31  geo_plz                   268850 non-null  int64  \n",
      " 32  noRooms                   268850 non-null  float64\n",
      " 33  thermalChar               162344 non-null  float64\n",
      " 34  floor                     217541 non-null  float64\n",
      " 35  numberOfFloors            171118 non-null  float64\n",
      " 36  noRoomsRange              268850 non-null  int64  \n",
      " 37  garden                    268850 non-null  bool   \n",
      " 38  livingSpaceRange          268850 non-null  int64  \n",
      " 39  regio2                    268850 non-null  object \n",
      " 40  regio3                    268850 non-null  object \n",
      " 41  description               249103 non-null  object \n",
      " 42  facilities                215926 non-null  object \n",
      " 43  heatingCosts              85518 non-null   float64\n",
      " 44  energyEfficiencyClass     77787 non-null   object \n",
      " 45  lastRefurbish             80711 non-null   float64\n",
      " 46  electricityBasePrice      46846 non-null   float64\n",
      " 47  electricityKwhPrice       46846 non-null   float64\n",
      " 48  date                      268850 non-null  object \n",
      "dtypes: bool(6), float64(18), int64(6), object(19)\n",
      "memory usage: 89.7+ MB\n"
     ]
    }
   ],
   "source": [
    "df.info()"
   ]
  },
  {
   "cell_type": "code",
   "execution_count": 5,
   "id": "09401a59",
   "metadata": {},
   "outputs": [
    {
     "data": {
      "text/html": [
       "<div>\n",
       "<style scoped>\n",
       "    .dataframe tbody tr th:only-of-type {\n",
       "        vertical-align: middle;\n",
       "    }\n",
       "\n",
       "    .dataframe tbody tr th {\n",
       "        vertical-align: top;\n",
       "    }\n",
       "\n",
       "    .dataframe thead th {\n",
       "        text-align: right;\n",
       "    }\n",
       "</style>\n",
       "<table border=\"1\" class=\"dataframe\">\n",
       "  <thead>\n",
       "    <tr style=\"text-align: right;\">\n",
       "      <th></th>\n",
       "      <th>serviceCharge</th>\n",
       "      <th>telekomHybridUploadSpeed</th>\n",
       "      <th>picturecount</th>\n",
       "      <th>pricetrend</th>\n",
       "      <th>telekomUploadSpeed</th>\n",
       "      <th>totalRent</th>\n",
       "      <th>yearConstructed</th>\n",
       "      <th>scoutId</th>\n",
       "      <th>noParkSpaces</th>\n",
       "      <th>yearConstructedRange</th>\n",
       "      <th>baseRent</th>\n",
       "      <th>livingSpace</th>\n",
       "      <th>baseRentRange</th>\n",
       "      <th>geo_plz</th>\n",
       "      <th>noRooms</th>\n",
       "      <th>thermalChar</th>\n",
       "      <th>floor</th>\n",
       "      <th>numberOfFloors</th>\n",
       "      <th>noRoomsRange</th>\n",
       "      <th>livingSpaceRange</th>\n",
       "      <th>heatingCosts</th>\n",
       "      <th>lastRefurbish</th>\n",
       "      <th>electricityBasePrice</th>\n",
       "      <th>electricityKwhPrice</th>\n",
       "    </tr>\n",
       "  </thead>\n",
       "  <tbody>\n",
       "    <tr>\n",
       "      <th>count</th>\n",
       "      <td>261941.000000</td>\n",
       "      <td>45020.0</td>\n",
       "      <td>268850.000000</td>\n",
       "      <td>267018.000000</td>\n",
       "      <td>235492.000000</td>\n",
       "      <td>2.283330e+05</td>\n",
       "      <td>211805.000000</td>\n",
       "      <td>2.688500e+05</td>\n",
       "      <td>93052.000000</td>\n",
       "      <td>211805.000000</td>\n",
       "      <td>2.688500e+05</td>\n",
       "      <td>268850.000000</td>\n",
       "      <td>268850.000000</td>\n",
       "      <td>268850.000000</td>\n",
       "      <td>268850.000000</td>\n",
       "      <td>162344.000000</td>\n",
       "      <td>217541.000000</td>\n",
       "      <td>171118.000000</td>\n",
       "      <td>268850.000000</td>\n",
       "      <td>268850.000000</td>\n",
       "      <td>85518.000000</td>\n",
       "      <td>80711.000000</td>\n",
       "      <td>46846.000000</td>\n",
       "      <td>46846.000000</td>\n",
       "    </tr>\n",
       "    <tr>\n",
       "      <th>mean</th>\n",
       "      <td>151.206113</td>\n",
       "      <td>10.0</td>\n",
       "      <td>9.791958</td>\n",
       "      <td>3.389001</td>\n",
       "      <td>28.804928</td>\n",
       "      <td>9.013315e+02</td>\n",
       "      <td>1966.400590</td>\n",
       "      <td>1.069697e+08</td>\n",
       "      <td>1.327634</td>\n",
       "      <td>3.714544</td>\n",
       "      <td>6.941294e+02</td>\n",
       "      <td>74.355548</td>\n",
       "      <td>3.765256</td>\n",
       "      <td>37283.022235</td>\n",
       "      <td>2.641261</td>\n",
       "      <td>114.749533</td>\n",
       "      <td>2.122405</td>\n",
       "      <td>3.572319</td>\n",
       "      <td>2.571542</td>\n",
       "      <td>3.070790</td>\n",
       "      <td>76.990866</td>\n",
       "      <td>2013.904536</td>\n",
       "      <td>89.113612</td>\n",
       "      <td>0.199769</td>\n",
       "    </tr>\n",
       "    <tr>\n",
       "      <th>std</th>\n",
       "      <td>308.295790</td>\n",
       "      <td>0.0</td>\n",
       "      <td>6.408399</td>\n",
       "      <td>1.964874</td>\n",
       "      <td>16.337151</td>\n",
       "      <td>3.323833e+04</td>\n",
       "      <td>46.992207</td>\n",
       "      <td>1.250093e+07</td>\n",
       "      <td>8.361403</td>\n",
       "      <td>2.738134</td>\n",
       "      <td>1.953602e+04</td>\n",
       "      <td>254.759208</td>\n",
       "      <td>2.214357</td>\n",
       "      <td>27798.037296</td>\n",
       "      <td>2.633440</td>\n",
       "      <td>61.653663</td>\n",
       "      <td>3.634934</td>\n",
       "      <td>6.375496</td>\n",
       "      <td>0.937594</td>\n",
       "      <td>1.407127</td>\n",
       "      <td>147.716278</td>\n",
       "      <td>10.963125</td>\n",
       "      <td>5.395805</td>\n",
       "      <td>0.009667</td>\n",
       "    </tr>\n",
       "    <tr>\n",
       "      <th>min</th>\n",
       "      <td>0.000000</td>\n",
       "      <td>10.0</td>\n",
       "      <td>0.000000</td>\n",
       "      <td>-12.330000</td>\n",
       "      <td>1.000000</td>\n",
       "      <td>0.000000e+00</td>\n",
       "      <td>1000.000000</td>\n",
       "      <td>2.887174e+07</td>\n",
       "      <td>0.000000</td>\n",
       "      <td>1.000000</td>\n",
       "      <td>0.000000e+00</td>\n",
       "      <td>0.000000</td>\n",
       "      <td>1.000000</td>\n",
       "      <td>852.000000</td>\n",
       "      <td>1.000000</td>\n",
       "      <td>0.100000</td>\n",
       "      <td>-1.000000</td>\n",
       "      <td>0.000000</td>\n",
       "      <td>1.000000</td>\n",
       "      <td>1.000000</td>\n",
       "      <td>0.000000</td>\n",
       "      <td>1015.000000</td>\n",
       "      <td>71.430000</td>\n",
       "      <td>0.170500</td>\n",
       "    </tr>\n",
       "    <tr>\n",
       "      <th>25%</th>\n",
       "      <td>95.000000</td>\n",
       "      <td>10.0</td>\n",
       "      <td>6.000000</td>\n",
       "      <td>2.000000</td>\n",
       "      <td>10.000000</td>\n",
       "      <td>4.698000e+02</td>\n",
       "      <td>1950.000000</td>\n",
       "      <td>1.066910e+08</td>\n",
       "      <td>1.000000</td>\n",
       "      <td>1.000000</td>\n",
       "      <td>3.380000e+02</td>\n",
       "      <td>54.000000</td>\n",
       "      <td>2.000000</td>\n",
       "      <td>9128.000000</td>\n",
       "      <td>2.000000</td>\n",
       "      <td>79.000000</td>\n",
       "      <td>1.000000</td>\n",
       "      <td>2.000000</td>\n",
       "      <td>2.000000</td>\n",
       "      <td>2.000000</td>\n",
       "      <td>54.000000</td>\n",
       "      <td>2012.000000</td>\n",
       "      <td>90.760000</td>\n",
       "      <td>0.191500</td>\n",
       "    </tr>\n",
       "    <tr>\n",
       "      <th>50%</th>\n",
       "      <td>135.000000</td>\n",
       "      <td>10.0</td>\n",
       "      <td>9.000000</td>\n",
       "      <td>3.390000</td>\n",
       "      <td>40.000000</td>\n",
       "      <td>6.500000e+02</td>\n",
       "      <td>1973.000000</td>\n",
       "      <td>1.111584e+08</td>\n",
       "      <td>1.000000</td>\n",
       "      <td>3.000000</td>\n",
       "      <td>4.900000e+02</td>\n",
       "      <td>67.320000</td>\n",
       "      <td>3.000000</td>\n",
       "      <td>38667.000000</td>\n",
       "      <td>3.000000</td>\n",
       "      <td>107.000000</td>\n",
       "      <td>2.000000</td>\n",
       "      <td>3.000000</td>\n",
       "      <td>3.000000</td>\n",
       "      <td>3.000000</td>\n",
       "      <td>70.000000</td>\n",
       "      <td>2017.000000</td>\n",
       "      <td>90.760000</td>\n",
       "      <td>0.198500</td>\n",
       "    </tr>\n",
       "    <tr>\n",
       "      <th>75%</th>\n",
       "      <td>190.000000</td>\n",
       "      <td>10.0</td>\n",
       "      <td>13.000000</td>\n",
       "      <td>4.570000</td>\n",
       "      <td>40.000000</td>\n",
       "      <td>9.850000e+02</td>\n",
       "      <td>1996.000000</td>\n",
       "      <td>1.137688e+08</td>\n",
       "      <td>1.000000</td>\n",
       "      <td>5.000000</td>\n",
       "      <td>7.990000e+02</td>\n",
       "      <td>87.000000</td>\n",
       "      <td>5.000000</td>\n",
       "      <td>57072.000000</td>\n",
       "      <td>3.000000</td>\n",
       "      <td>140.300000</td>\n",
       "      <td>3.000000</td>\n",
       "      <td>4.000000</td>\n",
       "      <td>3.000000</td>\n",
       "      <td>4.000000</td>\n",
       "      <td>90.000000</td>\n",
       "      <td>2019.000000</td>\n",
       "      <td>90.760000</td>\n",
       "      <td>0.205500</td>\n",
       "    </tr>\n",
       "    <tr>\n",
       "      <th>max</th>\n",
       "      <td>146118.000000</td>\n",
       "      <td>10.0</td>\n",
       "      <td>121.000000</td>\n",
       "      <td>14.920000</td>\n",
       "      <td>100.000000</td>\n",
       "      <td>1.575154e+07</td>\n",
       "      <td>2090.000000</td>\n",
       "      <td>1.157117e+08</td>\n",
       "      <td>2241.000000</td>\n",
       "      <td>9.000000</td>\n",
       "      <td>9.999999e+06</td>\n",
       "      <td>111111.000000</td>\n",
       "      <td>9.000000</td>\n",
       "      <td>99998.000000</td>\n",
       "      <td>999.990000</td>\n",
       "      <td>1996.000000</td>\n",
       "      <td>999.000000</td>\n",
       "      <td>999.000000</td>\n",
       "      <td>5.000000</td>\n",
       "      <td>7.000000</td>\n",
       "      <td>12613.000000</td>\n",
       "      <td>2919.000000</td>\n",
       "      <td>90.760000</td>\n",
       "      <td>0.227600</td>\n",
       "    </tr>\n",
       "  </tbody>\n",
       "</table>\n",
       "</div>"
      ],
      "text/plain": [
       "       serviceCharge  telekomHybridUploadSpeed   picturecount     pricetrend  \\\n",
       "count  261941.000000                   45020.0  268850.000000  267018.000000   \n",
       "mean      151.206113                      10.0       9.791958       3.389001   \n",
       "std       308.295790                       0.0       6.408399       1.964874   \n",
       "min         0.000000                      10.0       0.000000     -12.330000   \n",
       "25%        95.000000                      10.0       6.000000       2.000000   \n",
       "50%       135.000000                      10.0       9.000000       3.390000   \n",
       "75%       190.000000                      10.0      13.000000       4.570000   \n",
       "max    146118.000000                      10.0     121.000000      14.920000   \n",
       "\n",
       "       telekomUploadSpeed     totalRent  yearConstructed       scoutId  \\\n",
       "count       235492.000000  2.283330e+05    211805.000000  2.688500e+05   \n",
       "mean            28.804928  9.013315e+02      1966.400590  1.069697e+08   \n",
       "std             16.337151  3.323833e+04        46.992207  1.250093e+07   \n",
       "min              1.000000  0.000000e+00      1000.000000  2.887174e+07   \n",
       "25%             10.000000  4.698000e+02      1950.000000  1.066910e+08   \n",
       "50%             40.000000  6.500000e+02      1973.000000  1.111584e+08   \n",
       "75%             40.000000  9.850000e+02      1996.000000  1.137688e+08   \n",
       "max            100.000000  1.575154e+07      2090.000000  1.157117e+08   \n",
       "\n",
       "       noParkSpaces  yearConstructedRange      baseRent    livingSpace  \\\n",
       "count  93052.000000         211805.000000  2.688500e+05  268850.000000   \n",
       "mean       1.327634              3.714544  6.941294e+02      74.355548   \n",
       "std        8.361403              2.738134  1.953602e+04     254.759208   \n",
       "min        0.000000              1.000000  0.000000e+00       0.000000   \n",
       "25%        1.000000              1.000000  3.380000e+02      54.000000   \n",
       "50%        1.000000              3.000000  4.900000e+02      67.320000   \n",
       "75%        1.000000              5.000000  7.990000e+02      87.000000   \n",
       "max     2241.000000              9.000000  9.999999e+06  111111.000000   \n",
       "\n",
       "       baseRentRange        geo_plz        noRooms    thermalChar  \\\n",
       "count  268850.000000  268850.000000  268850.000000  162344.000000   \n",
       "mean        3.765256   37283.022235       2.641261     114.749533   \n",
       "std         2.214357   27798.037296       2.633440      61.653663   \n",
       "min         1.000000     852.000000       1.000000       0.100000   \n",
       "25%         2.000000    9128.000000       2.000000      79.000000   \n",
       "50%         3.000000   38667.000000       3.000000     107.000000   \n",
       "75%         5.000000   57072.000000       3.000000     140.300000   \n",
       "max         9.000000   99998.000000     999.990000    1996.000000   \n",
       "\n",
       "               floor  numberOfFloors   noRoomsRange  livingSpaceRange  \\\n",
       "count  217541.000000   171118.000000  268850.000000     268850.000000   \n",
       "mean        2.122405        3.572319       2.571542          3.070790   \n",
       "std         3.634934        6.375496       0.937594          1.407127   \n",
       "min        -1.000000        0.000000       1.000000          1.000000   \n",
       "25%         1.000000        2.000000       2.000000          2.000000   \n",
       "50%         2.000000        3.000000       3.000000          3.000000   \n",
       "75%         3.000000        4.000000       3.000000          4.000000   \n",
       "max       999.000000      999.000000       5.000000          7.000000   \n",
       "\n",
       "       heatingCosts  lastRefurbish  electricityBasePrice  electricityKwhPrice  \n",
       "count  85518.000000   80711.000000          46846.000000         46846.000000  \n",
       "mean      76.990866    2013.904536             89.113612             0.199769  \n",
       "std      147.716278      10.963125              5.395805             0.009667  \n",
       "min        0.000000    1015.000000             71.430000             0.170500  \n",
       "25%       54.000000    2012.000000             90.760000             0.191500  \n",
       "50%       70.000000    2017.000000             90.760000             0.198500  \n",
       "75%       90.000000    2019.000000             90.760000             0.205500  \n",
       "max    12613.000000    2919.000000             90.760000             0.227600  "
      ]
     },
     "execution_count": 5,
     "metadata": {},
     "output_type": "execute_result"
    }
   ],
   "source": [
    "df.describe()"
   ]
  },
  {
   "cell_type": "code",
   "execution_count": 6,
   "id": "5ca44b4b",
   "metadata": {},
   "outputs": [
    {
     "data": {
      "image/png": "[encoded data removed]",
      "text/plain": [
       "<Figure size 1440x1440 with 2 Axes>"
      ]
     },
     "metadata": {
      "needs_background": "light"
     },
     "output_type": "display_data"
    }
   ],
   "source": [
    "correlation_matrix(df)"
   ]
  },
  {
   "cell_type": "markdown",
   "id": "c2ec4d4d",
   "metadata": {},
   "source": [
    "## 1. Data Cleaning"
   ]
  },
  {
   "cell_type": "markdown",
   "id": "80ba048d",
   "metadata": {},
   "source": [
    "### Handeling Null Data"
   ]
  },
  {
   "cell_type": "code",
   "execution_count": 7,
   "id": "a3091d41",
   "metadata": {},
   "outputs": [
    {
     "data": {
      "text/plain": [
       "regio1                      0.000000\n",
       "serviceCharge               0.025698\n",
       "heatingType                 0.166844\n",
       "telekomTvOffer              0.121328\n",
       "telekomHybridUploadSpeed    0.832546\n",
       "newlyConst                  0.000000\n",
       "balcony                     0.000000\n",
       "picturecount                0.000000\n",
       "pricetrend                  0.006814\n",
       "telekomUploadSpeed          0.124077\n",
       "totalRent                   0.150705\n",
       "yearConstructed             0.212182\n",
       "scoutId                     0.000000\n",
       "noParkSpaces                0.653889\n",
       "firingTypes                 0.211880\n",
       "hasKitchen                  0.000000\n",
       "geo_bln                     0.000000\n",
       "cellar                      0.000000\n",
       "yearConstructedRange        0.212182\n",
       "baseRent                    0.000000\n",
       "houseNumber                 0.264155\n",
       "livingSpace                 0.000000\n",
       "geo_krs                     0.000000\n",
       "condition                   0.254748\n",
       "interiorQual                0.419063\n",
       "petsAllowed                 0.426160\n",
       "street                      0.000000\n",
       "streetPlain                 0.264136\n",
       "lift                        0.000000\n",
       "baseRentRange               0.000000\n",
       "typeOfFlat                  0.136187\n",
       "geo_plz                     0.000000\n",
       "noRooms                     0.000000\n",
       "thermalChar                 0.396154\n",
       "floor                       0.190846\n",
       "numberOfFloors              0.363519\n",
       "noRoomsRange                0.000000\n",
       "garden                      0.000000\n",
       "livingSpaceRange            0.000000\n",
       "regio2                      0.000000\n",
       "regio3                      0.000000\n",
       "description                 0.073450\n",
       "facilities                  0.196853\n",
       "heatingCosts                0.681912\n",
       "energyEfficiencyClass       0.710668\n",
       "lastRefurbish               0.699792\n",
       "electricityBasePrice        0.825754\n",
       "electricityKwhPrice         0.825754\n",
       "date                        0.000000\n",
       "dtype: float64"
      ]
     },
     "execution_count": 7,
     "metadata": {},
     "output_type": "execute_result"
    }
   ],
   "source": [
    "#Inspect how much Null Data there is\n",
    "df.isna().sum()/len(df)"
   ]
  },
  {
   "cell_type": "code",
   "execution_count": 8,
   "id": "78d5107d",
   "metadata": {},
   "outputs": [
    {
     "data": {
      "text/plain": [
       "Index(['telekomHybridUploadSpeed', 'noParkSpaces', 'heatingCosts',\n",
       "       'energyEfficiencyClass', 'lastRefurbish', 'electricityBasePrice',\n",
       "       'electricityKwhPrice'],\n",
       "      dtype='object')"
      ]
     },
     "execution_count": 8,
     "metadata": {},
     "output_type": "execute_result"
    }
   ],
   "source": [
    "#See how many Attributes have more than 50% Null Data\n",
    "df.columns[((df.isna().sum()/len(df)) > 0.50)]"
   ]
  },
  {
   "cell_type": "code",
   "execution_count": 9,
   "id": "bb597b75",
   "metadata": {},
   "outputs": [],
   "source": [
    "#Looking deeper into each Attribute with more than 50% Null Data\n",
    "    #set_maker(df,\"noParkSpaces\")\n",
    "    #df['noParkSpaces'].value_counts()"
   ]
  },
  {
   "cell_type": "markdown",
   "id": "18179623",
   "metadata": {},
   "source": [
    "<br>\n",
    "<ul>\n",
    "    <li>telekomHybridUploadSpeed = 83% null (to much null to set with mean and no real corelation to price)\n",
    "    <li>noParkSpaces = 65% (Will be replaced with 0)\n",
    "    <li>heatingCosts = 68% (Is know from previos owners and will be sett to mean because in a test is brought 1-2% of accuracy)\n",
    "    <li>energyEfficiencyClass = 71% (To little Corelation and to many missing)\n",
    "    <li>lastRefurbish = 70% (A lot of wrong Data and a hight rate if Nan will be cut)\n",
    "    <li>electricityBasePrice = 82% (Sind seit 2020 veraltet, und viele Fehlende Daten, will be cut)\n",
    "    <li>electricityKwhPrice = 82% (Cut out, small range of Values and to many Nan)\n",
    "</ul>\n",
    "<p> The only Attribute that stays from the list will be no of Parking Spaces\n",
    "    <br>"
   ]
  },
  {
   "cell_type": "code",
   "execution_count": 10,
   "id": "39fa23b9",
   "metadata": {},
   "outputs": [
    {
     "data": {
      "text/plain": [
       "Index(['regio1', 'serviceCharge', 'heatingType', 'telekomTvOffer',\n",
       "       'newlyConst', 'balcony', 'picturecount', 'pricetrend',\n",
       "       'telekomUploadSpeed', 'totalRent', 'yearConstructed', 'scoutId',\n",
       "       'noParkSpaces', 'firingTypes', 'hasKitchen', 'geo_bln', 'cellar',\n",
       "       'yearConstructedRange', 'baseRent', 'houseNumber', 'livingSpace',\n",
       "       'geo_krs', 'condition', 'interiorQual', 'petsAllowed', 'street',\n",
       "       'streetPlain', 'lift', 'baseRentRange', 'typeOfFlat', 'geo_plz',\n",
       "       'noRooms', 'thermalChar', 'floor', 'numberOfFloors', 'noRoomsRange',\n",
       "       'garden', 'livingSpaceRange', 'regio2', 'regio3', 'description',\n",
       "       'facilities', 'heatingCosts', 'date'],\n",
       "      dtype='object')"
      ]
     },
     "execution_count": 10,
     "metadata": {},
     "output_type": "execute_result"
    }
   ],
   "source": [
    "#drops Colums with to much Null\n",
    "df = df.drop(columns=df.columns[((df.isna().sum()/len(df)) > 0.69)])\n",
    "df.columns"
   ]
  },
  {
   "cell_type": "markdown",
   "id": "b13f4f94",
   "metadata": {},
   "source": [
    "### Handeling inappropriat Data"
   ]
  },
  {
   "cell_type": "code",
   "execution_count": 11,
   "id": "4b227aed",
   "metadata": {},
   "outputs": [],
   "source": [
    "#since No. of Parkingspaces are importat for a Arppartmet I think they would put them in the offering\n",
    "#seting noParkings. from Nan to 0\n",
    "df[\"noParkSpaces\"] = df[\"noParkSpaces\"].fillna(value=0)"
   ]
  },
  {
   "cell_type": "code",
   "execution_count": 12,
   "id": "a00d002a",
   "metadata": {},
   "outputs": [
    {
     "name": "stdout",
     "output_type": "stream",
     "text": [
      "There are 89 inappropriate Data Points with the Value 0.0\n",
      "The Datapiont have been Droped, the shape if the Dataframe is now (268761, 44)\n"
     ]
    }
   ],
   "source": [
    "#drop Data pionts in \"baseRent\" with the Values 0.0\n",
    "df = drop_inappropriate(df,\"baseRent\", 0.0)"
   ]
  },
  {
   "cell_type": "code",
   "execution_count": 13,
   "id": "73255e08",
   "metadata": {},
   "outputs": [
    {
     "name": "stdout",
     "output_type": "stream",
     "text": [
      "There are 64 inappropriate Data Points with the Value 0.0\n",
      "The Datapiont have been Droped, the shape if the Dataframe is now (268697, 44)\n"
     ]
    }
   ],
   "source": [
    "#drop Data pionts in \"livingSpace\" with the Values 0.0\n",
    "df = drop_inappropriate(df,\"livingSpace\", 0.0)"
   ]
  },
  {
   "cell_type": "code",
   "execution_count": 14,
   "id": "d1172031",
   "metadata": {},
   "outputs": [
    {
     "name": "stdout",
     "output_type": "stream",
     "text": [
      "There are 28 inappropriate Data Points with the Value bigger than 50\n",
      "The Datapiont have been Droped, the shape if the Dataframe is now (268669, 44)\n"
     ]
    }
   ],
   "source": [
    "#drop Data pionts in \"floor\" with the Values bigger than 50\n",
    "#there are no rental objects higher than 50 floors\n",
    "df = drop_inappropriate_bigger(df,\"floor\", 50)"
   ]
  },
  {
   "cell_type": "code",
   "execution_count": 15,
   "id": "e995c5c3",
   "metadata": {},
   "outputs": [
    {
     "name": "stdout",
     "output_type": "stream",
     "text": [
      "There are 20 inappropriate Data Points with the Value bigger than 50\n",
      "The Datapiont have been Droped, the shape if the Dataframe is now (268649, 44)\n"
     ]
    }
   ],
   "source": [
    "#drop Data pionts in \"numberOfFloors\" with the Values bigger than 50\n",
    "#there are no rental objects higher than 50 floors\n",
    "df = drop_inappropriate_bigger(df,\"numberOfFloors\", 50)"
   ]
  },
  {
   "cell_type": "code",
   "execution_count": 16,
   "id": "247e57d5",
   "metadata": {},
   "outputs": [
    {
     "name": "stdout",
     "output_type": "stream",
     "text": [
      "There are 226 inappropriate Data Points with the Value bigger than 30\n",
      "The Datapiont have been Droped, the shape if the Dataframe is now (268423, 44)\n"
     ]
    }
   ],
   "source": [
    "#drop Data pionts in \"noParkSpaces\" with the Values bigger than 30\n",
    "df = drop_inappropriate_bigger(df,\"noParkSpaces\", 30)"
   ]
  },
  {
   "cell_type": "code",
   "execution_count": 17,
   "id": "c8eb3148",
   "metadata": {},
   "outputs": [
    {
     "name": "stdout",
     "output_type": "stream",
     "text": [
      "There are 134 inappropriate Data Points with the Value bigger than 1000\n",
      "The Datapiont have been Droped, the shape if the Dataframe is now (268289, 44)\n",
      "There are 3414 inappropriate Data Points with the Value smaller than 0\n",
      "The Datapiont have been Droped, the shape if the Dataframe is now (264875, 44)\n"
     ]
    }
   ],
   "source": [
    "df = drop_inappropriate_bigger(df,\"serviceCharge\", 1000)\n",
    "df = drop_inappropriate_smaller(df,\"serviceCharge\", 0)"
   ]
  },
  {
   "cell_type": "code",
   "execution_count": 18,
   "id": "fea5d598",
   "metadata": {},
   "outputs": [
    {
     "name": "stdout",
     "output_type": "stream",
     "text": [
      "There are 16 inappropriate Data Points with the Value bigger than 500\n",
      "The Datapiont have been Droped, the shape if the Dataframe is now (264859, 44)\n"
     ]
    }
   ],
   "source": [
    "#To big for the Client\n",
    "df = drop_inappropriate_bigger(df,\"livingSpace\", 500)"
   ]
  },
  {
   "cell_type": "code",
   "execution_count": 19,
   "id": "0eae85d7",
   "metadata": {},
   "outputs": [
    {
     "name": "stdout",
     "output_type": "stream",
     "text": [
      "There are 22 inappropriate Data Points with the Value bigger than 20\n",
      "The Datapiont have been Droped, the shape if the Dataframe is now (264837, 44)\n"
     ]
    }
   ],
   "source": [
    "#To big for the Client\n",
    "df = drop_inappropriate_bigger(df,\"noRooms\", 20)"
   ]
  },
  {
   "cell_type": "code",
   "execution_count": 20,
   "id": "b4aebb35",
   "metadata": {},
   "outputs": [
    {
     "name": "stdout",
     "output_type": "stream",
     "text": [
      "There are 14 inappropriate Data Points with the Value bigger than 10000\n",
      "The Datapiont have been Droped, the shape if the Dataframe is now (264823, 44)\n"
     ]
    }
   ],
   "source": [
    "#drop Data pionts in \"baseRent\" with the Values bigger than 10.000€\n",
    "#To expencive for the Client\n",
    "df = drop_inappropriate_bigger(df,\"baseRent\", 10000)"
   ]
  },
  {
   "cell_type": "code",
   "execution_count": 21,
   "id": "b00d2a97",
   "metadata": {},
   "outputs": [
    {
     "name": "stdout",
     "output_type": "stream",
     "text": [
      "There are 171 inappropriate Data Points with the Value bigger than 300\n",
      "The Datapiont have been Droped, the shape if the Dataframe is now (264652, 44)\n"
     ]
    }
   ],
   "source": [
    "#not realistic\n",
    "df = drop_inappropriate_bigger(df,\"heatingCosts\", 300)"
   ]
  },
  {
   "cell_type": "code",
   "execution_count": 22,
   "id": "d4fa7452",
   "metadata": {},
   "outputs": [
    {
     "name": "stdout",
     "output_type": "stream",
     "text": [
      "There are 18030 inappropriate Data Points with the Value smaller than 1900\n",
      "The Datapiont have been Droped, the shape if the Dataframe is now (246622, 44)\n",
      "There are 5 inappropriate Data Points with the Value bigger than 2025\n",
      "The Datapiont have been Droped, the shape if the Dataframe is now (246617, 44)\n"
     ]
    }
   ],
   "source": [
    "#To old for the Client\n",
    "df = drop_inappropriate_smaller(df,\"yearConstructed\", 1900) #1900\n",
    "df = drop_inappropriate_bigger(df,\"yearConstructed\", 2025) #2025"
   ]
  },
  {
   "cell_type": "code",
   "execution_count": 23,
   "id": "2b4e42b0",
   "metadata": {},
   "outputs": [],
   "source": [
    "#it is important on witch floor the flat is as long as it's not on 0 (ground Floor) so every Nan will be replaced with 0 \n",
    "#because taking a mean or median would not make sence\n",
    "#some people have put 1 for the ground floor and some 0 soo? What to do?\n",
    "df[\"floor\"] = df[\"floor\"].fillna(value=0)"
   ]
  },
  {
   "cell_type": "code",
   "execution_count": 24,
   "id": "f053e588",
   "metadata": {},
   "outputs": [],
   "source": [
    "#will be changes to numbers so all Methods can work with it\n",
    "df[\"petsAllowed\"] = df[\"petsAllowed\"].fillna(value='no')\n",
    "df[\"petsAllowed\"] = df[\"petsAllowed\"].replace(['no'],0)\n",
    "df[\"petsAllowed\"] = df[\"petsAllowed\"].replace(['negotiable'],5)\n",
    "df[\"petsAllowed\"] = df[\"petsAllowed\"].replace(['yes'],10)"
   ]
  },
  {
   "cell_type": "markdown",
   "id": "be7927ff",
   "metadata": {},
   "source": [
    "### Drop not usefull Data"
   ]
  },
  {
   "cell_type": "markdown",
   "id": "10c1f154",
   "metadata": {},
   "source": [
    "<h4> Explanation why they are not Usefull</h4>\n",
    "    <ul>\n",
    "        <li>description = No need because there are no direct information on the House Price, could be explord in side Project\n",
    "        <li>livingSpaceRange = Is reprecented in other Attributes.\n",
    "        <li>scoutId = Just a Immoscout intern ID\n",
    "        <li>street = Not importat\n",
    "        <li>streetPlain = Same as Steet Name\n",
    "        <li>houseNumber = Not important\n",
    "        <li>date = Just the scraping date.\n",
    "        <li>facilities = Same as Description\n",
    "        <li>totalRent = is just a combination of Rent and serviceCharges, still has no correlation\n",
    "        <li>telekomUploadSpeed = Has no Corralation and makes no sens to keep everyone can choose the Speed they want to pay for"
   ]
  },
  {
   "cell_type": "code",
   "execution_count": 25,
   "id": "7a0ed47d",
   "metadata": {},
   "outputs": [],
   "source": [
    "#drop Attributes that are unimportant \n",
    "df = df.drop(columns=['description','livingSpaceRange','scoutId','street','streetPlain','houseNumber','date','facilities','totalRent','telekomUploadSpeed'])"
   ]
  },
  {
   "cell_type": "markdown",
   "id": "3f9c336f",
   "metadata": {},
   "source": [
    "### Fill Numeric Null with mean"
   ]
  },
  {
   "cell_type": "code",
   "execution_count": 26,
   "id": "a9269f2f",
   "metadata": {},
   "outputs": [
    {
     "data": {
      "text/plain": [
       "serviceCharge             151.160083\n",
       "newlyConst                  0.085169\n",
       "balcony                     0.631818\n",
       "picturecount                9.627528\n",
       "pricetrend                  3.381054\n",
       "yearConstructed          1974.631973\n",
       "noParkSpaces                0.408455\n",
       "hasKitchen                  0.339620\n",
       "cellar                      0.651983\n",
       "yearConstructedRange        3.969567\n",
       "baseRent                  634.414968\n",
       "livingSpace                73.167328\n",
       "petsAllowed                 2.097199\n",
       "lift                        0.240138\n",
       "baseRentRange               3.729451\n",
       "geo_plz                 37840.977455\n",
       "noRooms                     2.632667\n",
       "thermalChar               113.400470\n",
       "floor                       1.704736\n",
       "numberOfFloors              3.523369\n",
       "noRoomsRange                2.576643\n",
       "garden                      0.193648\n",
       "heatingCosts               74.027935\n",
       "dtype: float64"
      ]
     },
     "execution_count": 26,
     "metadata": {},
     "output_type": "execute_result"
    }
   ],
   "source": [
    "#Inspect the mean of the Data\n",
    "df._get_numeric_data().mean()"
   ]
  },
  {
   "cell_type": "code",
   "execution_count": 27,
   "id": "5d961c89",
   "metadata": {},
   "outputs": [],
   "source": [
    "#fill the Nan with mean\n",
    "df.fillna(df._get_numeric_data().mean(),inplace = True)"
   ]
  },
  {
   "cell_type": "code",
   "execution_count": 28,
   "id": "d786f35a",
   "metadata": {},
   "outputs": [
    {
     "data": {
      "text/plain": [
       "serviceCharge             151.160083\n",
       "newlyConst                  0.085169\n",
       "balcony                     0.631818\n",
       "picturecount                9.627528\n",
       "pricetrend                  3.381054\n",
       "yearConstructed          1974.631973\n",
       "noParkSpaces                0.408455\n",
       "hasKitchen                  0.339620\n",
       "cellar                      0.651983\n",
       "yearConstructedRange        3.969567\n",
       "baseRent                  634.414968\n",
       "livingSpace                73.167328\n",
       "petsAllowed                 2.097199\n",
       "lift                        0.240138\n",
       "baseRentRange               3.729451\n",
       "geo_plz                 37840.977455\n",
       "noRooms                     2.632667\n",
       "thermalChar               113.400470\n",
       "floor                       1.704736\n",
       "numberOfFloors              3.523369\n",
       "noRoomsRange                2.576643\n",
       "garden                      0.193648\n",
       "heatingCosts               74.027935\n",
       "dtype: float64"
      ]
     },
     "execution_count": 28,
     "metadata": {},
     "output_type": "execute_result"
    }
   ],
   "source": [
    "#Check the remaining Null Values\n",
    "df._get_numeric_data().mean()"
   ]
  },
  {
   "cell_type": "code",
   "execution_count": 29,
   "id": "5f9dec07",
   "metadata": {},
   "outputs": [
    {
     "data": {
      "text/html": [
       "<div>\n",
       "<style scoped>\n",
       "    .dataframe tbody tr th:only-of-type {\n",
       "        vertical-align: middle;\n",
       "    }\n",
       "\n",
       "    .dataframe tbody tr th {\n",
       "        vertical-align: top;\n",
       "    }\n",
       "\n",
       "    .dataframe thead th {\n",
       "        text-align: right;\n",
       "    }\n",
       "</style>\n",
       "<table border=\"1\" class=\"dataframe\">\n",
       "  <thead>\n",
       "    <tr style=\"text-align: right;\">\n",
       "      <th></th>\n",
       "      <th>serviceCharge</th>\n",
       "      <th>picturecount</th>\n",
       "      <th>pricetrend</th>\n",
       "      <th>yearConstructed</th>\n",
       "      <th>noParkSpaces</th>\n",
       "      <th>yearConstructedRange</th>\n",
       "      <th>baseRent</th>\n",
       "      <th>livingSpace</th>\n",
       "      <th>petsAllowed</th>\n",
       "      <th>baseRentRange</th>\n",
       "      <th>geo_plz</th>\n",
       "      <th>noRooms</th>\n",
       "      <th>thermalChar</th>\n",
       "      <th>floor</th>\n",
       "      <th>numberOfFloors</th>\n",
       "      <th>noRoomsRange</th>\n",
       "      <th>heatingCosts</th>\n",
       "    </tr>\n",
       "  </thead>\n",
       "  <tbody>\n",
       "    <tr>\n",
       "      <th>count</th>\n",
       "      <td>246617.000000</td>\n",
       "      <td>246617.000000</td>\n",
       "      <td>246617.000000</td>\n",
       "      <td>246617.000000</td>\n",
       "      <td>246617.000000</td>\n",
       "      <td>246617.000000</td>\n",
       "      <td>246617.000000</td>\n",
       "      <td>246617.000000</td>\n",
       "      <td>246617.000000</td>\n",
       "      <td>246617.000000</td>\n",
       "      <td>246617.000000</td>\n",
       "      <td>246617.000000</td>\n",
       "      <td>246617.000000</td>\n",
       "      <td>246617.000000</td>\n",
       "      <td>246617.000000</td>\n",
       "      <td>246617.000000</td>\n",
       "      <td>246617.000000</td>\n",
       "    </tr>\n",
       "    <tr>\n",
       "      <th>mean</th>\n",
       "      <td>151.160083</td>\n",
       "      <td>9.627528</td>\n",
       "      <td>3.381054</td>\n",
       "      <td>1974.631973</td>\n",
       "      <td>0.408455</td>\n",
       "      <td>3.969567</td>\n",
       "      <td>634.414968</td>\n",
       "      <td>73.167328</td>\n",
       "      <td>2.097199</td>\n",
       "      <td>3.729451</td>\n",
       "      <td>37840.977455</td>\n",
       "      <td>2.632667</td>\n",
       "      <td>113.400470</td>\n",
       "      <td>1.704736</td>\n",
       "      <td>3.523369</td>\n",
       "      <td>2.576643</td>\n",
       "      <td>74.027935</td>\n",
       "    </tr>\n",
       "    <tr>\n",
       "      <th>std</th>\n",
       "      <td>80.122094</td>\n",
       "      <td>6.313417</td>\n",
       "      <td>1.928595</td>\n",
       "      <td>28.577942</td>\n",
       "      <td>0.924664</td>\n",
       "      <td>2.400069</td>\n",
       "      <td>465.698345</td>\n",
       "      <td>30.998625</td>\n",
       "      <td>2.833737</td>\n",
       "      <td>2.186221</td>\n",
       "      <td>27469.623951</td>\n",
       "      <td>0.969901</td>\n",
       "      <td>47.783607</td>\n",
       "      <td>1.725411</td>\n",
       "      <td>1.607331</td>\n",
       "      <td>0.929392</td>\n",
       "      <td>19.224477</td>\n",
       "    </tr>\n",
       "    <tr>\n",
       "      <th>min</th>\n",
       "      <td>0.010000</td>\n",
       "      <td>0.000000</td>\n",
       "      <td>-12.330000</td>\n",
       "      <td>1901.000000</td>\n",
       "      <td>0.000000</td>\n",
       "      <td>1.000000</td>\n",
       "      <td>1.000000</td>\n",
       "      <td>1.000000</td>\n",
       "      <td>0.000000</td>\n",
       "      <td>1.000000</td>\n",
       "      <td>852.000000</td>\n",
       "      <td>1.000000</td>\n",
       "      <td>0.100000</td>\n",
       "      <td>-1.000000</td>\n",
       "      <td>0.000000</td>\n",
       "      <td>1.000000</td>\n",
       "      <td>0.000000</td>\n",
       "    </tr>\n",
       "    <tr>\n",
       "      <th>25%</th>\n",
       "      <td>100.000000</td>\n",
       "      <td>6.000000</td>\n",
       "      <td>2.030000</td>\n",
       "      <td>1963.000000</td>\n",
       "      <td>0.000000</td>\n",
       "      <td>2.000000</td>\n",
       "      <td>336.250000</td>\n",
       "      <td>54.210000</td>\n",
       "      <td>0.000000</td>\n",
       "      <td>2.000000</td>\n",
       "      <td>9212.000000</td>\n",
       "      <td>2.000000</td>\n",
       "      <td>96.000000</td>\n",
       "      <td>0.000000</td>\n",
       "      <td>3.000000</td>\n",
       "      <td>2.000000</td>\n",
       "      <td>74.027935</td>\n",
       "    </tr>\n",
       "    <tr>\n",
       "      <th>50%</th>\n",
       "      <td>140.000000</td>\n",
       "      <td>9.000000</td>\n",
       "      <td>3.381054</td>\n",
       "      <td>1974.631973</td>\n",
       "      <td>0.000000</td>\n",
       "      <td>3.969567</td>\n",
       "      <td>490.000000</td>\n",
       "      <td>67.260000</td>\n",
       "      <td>0.000000</td>\n",
       "      <td>3.000000</td>\n",
       "      <td>39110.000000</td>\n",
       "      <td>3.000000</td>\n",
       "      <td>113.400470</td>\n",
       "      <td>1.000000</td>\n",
       "      <td>3.523369</td>\n",
       "      <td>3.000000</td>\n",
       "      <td>74.027935</td>\n",
       "    </tr>\n",
       "    <tr>\n",
       "      <th>75%</th>\n",
       "      <td>186.000000</td>\n",
       "      <td>13.000000</td>\n",
       "      <td>4.550000</td>\n",
       "      <td>1994.000000</td>\n",
       "      <td>1.000000</td>\n",
       "      <td>5.000000</td>\n",
       "      <td>790.000000</td>\n",
       "      <td>86.380000</td>\n",
       "      <td>5.000000</td>\n",
       "      <td>5.000000</td>\n",
       "      <td>57072.000000</td>\n",
       "      <td>3.000000</td>\n",
       "      <td>116.000000</td>\n",
       "      <td>3.000000</td>\n",
       "      <td>4.000000</td>\n",
       "      <td>3.000000</td>\n",
       "      <td>74.027935</td>\n",
       "    </tr>\n",
       "    <tr>\n",
       "      <th>max</th>\n",
       "      <td>998.000000</td>\n",
       "      <td>121.000000</td>\n",
       "      <td>14.920000</td>\n",
       "      <td>2022.000000</td>\n",
       "      <td>28.000000</td>\n",
       "      <td>9.000000</td>\n",
       "      <td>8900.000000</td>\n",
       "      <td>480.000000</td>\n",
       "      <td>10.000000</td>\n",
       "      <td>9.000000</td>\n",
       "      <td>99998.000000</td>\n",
       "      <td>16.000000</td>\n",
       "      <td>1996.000000</td>\n",
       "      <td>45.000000</td>\n",
       "      <td>45.000000</td>\n",
       "      <td>5.000000</td>\n",
       "      <td>299.900000</td>\n",
       "    </tr>\n",
       "  </tbody>\n",
       "</table>\n",
       "</div>"
      ],
      "text/plain": [
       "       serviceCharge   picturecount     pricetrend  yearConstructed  \\\n",
       "count  246617.000000  246617.000000  246617.000000    246617.000000   \n",
       "mean      151.160083       9.627528       3.381054      1974.631973   \n",
       "std        80.122094       6.313417       1.928595        28.577942   \n",
       "min         0.010000       0.000000     -12.330000      1901.000000   \n",
       "25%       100.000000       6.000000       2.030000      1963.000000   \n",
       "50%       140.000000       9.000000       3.381054      1974.631973   \n",
       "75%       186.000000      13.000000       4.550000      1994.000000   \n",
       "max       998.000000     121.000000      14.920000      2022.000000   \n",
       "\n",
       "        noParkSpaces  yearConstructedRange       baseRent    livingSpace  \\\n",
       "count  246617.000000         246617.000000  246617.000000  246617.000000   \n",
       "mean        0.408455              3.969567     634.414968      73.167328   \n",
       "std         0.924664              2.400069     465.698345      30.998625   \n",
       "min         0.000000              1.000000       1.000000       1.000000   \n",
       "25%         0.000000              2.000000     336.250000      54.210000   \n",
       "50%         0.000000              3.969567     490.000000      67.260000   \n",
       "75%         1.000000              5.000000     790.000000      86.380000   \n",
       "max        28.000000              9.000000    8900.000000     480.000000   \n",
       "\n",
       "         petsAllowed  baseRentRange        geo_plz        noRooms  \\\n",
       "count  246617.000000  246617.000000  246617.000000  246617.000000   \n",
       "mean        2.097199       3.729451   37840.977455       2.632667   \n",
       "std         2.833737       2.186221   27469.623951       0.969901   \n",
       "min         0.000000       1.000000     852.000000       1.000000   \n",
       "25%         0.000000       2.000000    9212.000000       2.000000   \n",
       "50%         0.000000       3.000000   39110.000000       3.000000   \n",
       "75%         5.000000       5.000000   57072.000000       3.000000   \n",
       "max        10.000000       9.000000   99998.000000      16.000000   \n",
       "\n",
       "         thermalChar          floor  numberOfFloors   noRoomsRange  \\\n",
       "count  246617.000000  246617.000000   246617.000000  246617.000000   \n",
       "mean      113.400470       1.704736        3.523369       2.576643   \n",
       "std        47.783607       1.725411        1.607331       0.929392   \n",
       "min         0.100000      -1.000000        0.000000       1.000000   \n",
       "25%        96.000000       0.000000        3.000000       2.000000   \n",
       "50%       113.400470       1.000000        3.523369       3.000000   \n",
       "75%       116.000000       3.000000        4.000000       3.000000   \n",
       "max      1996.000000      45.000000       45.000000       5.000000   \n",
       "\n",
       "        heatingCosts  \n",
       "count  246617.000000  \n",
       "mean       74.027935  \n",
       "std        19.224477  \n",
       "min         0.000000  \n",
       "25%        74.027935  \n",
       "50%        74.027935  \n",
       "75%        74.027935  \n",
       "max       299.900000  "
      ]
     },
     "execution_count": 29,
     "metadata": {},
     "output_type": "execute_result"
    }
   ],
   "source": [
    "df.describe()"
   ]
  },
  {
   "cell_type": "markdown",
   "id": "8edd1a2c",
   "metadata": {},
   "source": [
    "### The Categorical Data will be handelt in the Prediction part because it's better to Visualiz this way"
   ]
  },
  {
   "cell_type": "markdown",
   "id": "0d6c3b00",
   "metadata": {},
   "source": [
    "## 2. Data Visualization"
   ]
  },
  {
   "cell_type": "markdown",
   "id": "dd418335",
   "metadata": {},
   "source": [
    "### General Visualization"
   ]
  },
  {
   "cell_type": "code",
   "execution_count": null,
   "id": "6fef220b",
   "metadata": {},
   "outputs": [],
   "source": [
    "pd_hist(df,100)"
   ]
  },
  {
   "cell_type": "code",
   "execution_count": null,
   "id": "8256a357",
   "metadata": {},
   "outputs": [],
   "source": [
    "correlation_matrix(df)"
   ]
  },
  {
   "cell_type": "code",
   "execution_count": null,
   "id": "886da73b",
   "metadata": {},
   "outputs": [],
   "source": [
    "df.columns"
   ]
  },
  {
   "cell_type": "markdown",
   "id": "7c3a17fb",
   "metadata": {},
   "source": [
    "### Development of rental prices in relation to the variables with the highest correlations"
   ]
  },
  {
   "cell_type": "markdown",
   "id": "30801e0c",
   "metadata": {},
   "source": [
    "<ul>\n",
    "    <li>Living Space \n",
    "    <li> Service Charge "
   ]
  },
  {
   "cell_type": "code",
   "execution_count": null,
   "id": "3496345c",
   "metadata": {},
   "outputs": [],
   "source": [
    "sns.regplot(x='livingSpace', y='baseRent', data=df, scatter_kws={\"alpha\":0.3,\"s\":20})"
   ]
  },
  {
   "cell_type": "code",
   "execution_count": null,
   "id": "102975bf",
   "metadata": {},
   "outputs": [],
   "source": [
    "sns.regplot(x = 'serviceCharge', y= 'baseRent', data=df, scatter_kws={\"alpha\":0.3,\"s\":20})"
   ]
  },
  {
   "cell_type": "markdown",
   "id": "e3dec150",
   "metadata": {},
   "source": [
    "### Rental prices in comparison of the German states"
   ]
  },
  {
   "cell_type": "code",
   "execution_count": null,
   "id": "84b93780",
   "metadata": {},
   "outputs": [],
   "source": [
    "plt.figure(figsize=(20,10))\n",
    "\n",
    "sns.barplot(x=df.regio1, y=df.baseRent, ci = None)\n",
    "plt.ylim([25, 1250])\n",
    "plt.xticks(rotation='vertical')\n",
    "plt.show()"
   ]
  },
  {
   "cell_type": "markdown",
   "id": "54f8db50",
   "metadata": {},
   "source": [
    "## 3. Data Prediction"
   ]
  },
  {
   "cell_type": "markdown",
   "id": "67adc8a5",
   "metadata": {},
   "source": [
    "### Handeling Categorical Data"
   ]
  },
  {
   "cell_type": "code",
   "execution_count": null,
   "id": "df19130a",
   "metadata": {},
   "outputs": [],
   "source": [
    "df"
   ]
  },
  {
   "cell_type": "code",
   "execution_count": null,
   "id": "97d0e231",
   "metadata": {},
   "outputs": [],
   "source": [
    "#Method 1: Change categorical data to 0 and 1 columns\n",
    "df_dummies = change_categorical_to_dummies(df)"
   ]
  },
  {
   "cell_type": "code",
   "execution_count": null,
   "id": "e240f07f",
   "metadata": {},
   "outputs": [],
   "source": [
    "#Method 2: Changes the Categorical Data to Numbers\n",
    "df = change_categorical(df) "
   ]
  },
  {
   "cell_type": "code",
   "execution_count": null,
   "id": "aab3c07a",
   "metadata": {},
   "outputs": [],
   "source": [
    "df"
   ]
  },
  {
   "cell_type": "code",
   "execution_count": null,
   "id": "2d31afef",
   "metadata": {},
   "outputs": [],
   "source": [
    "df_dummies"
   ]
  },
  {
   "cell_type": "markdown",
   "id": "d7669628",
   "metadata": {},
   "source": [
    "### Additional (specialy needed for KNN)"
   ]
  },
  {
   "cell_type": "code",
   "execution_count": null,
   "id": "819baa1e",
   "metadata": {},
   "outputs": [],
   "source": [
    "#replaces bool with numbers otherwise the featurescaling would not work\n",
    "bool_list = [\"newlyConst\", \"balcony\", \"hasKitchen\", \"cellar\", \"lift\" , \"garden\" ]\n",
    "for x in bool_list:\n",
    "    df[x] = df[x].astype(int)"
   ]
  },
  {
   "cell_type": "code",
   "execution_count": null,
   "id": "4f00feee",
   "metadata": {},
   "outputs": [],
   "source": [
    "df = feature_scaling(df)"
   ]
  },
  {
   "cell_type": "code",
   "execution_count": null,
   "id": "39f05459",
   "metadata": {},
   "outputs": [],
   "source": [
    "df_dummies = feature_scaling(df_dummies)"
   ]
  },
  {
   "cell_type": "code",
   "execution_count": null,
   "id": "538b8413",
   "metadata": {},
   "outputs": [],
   "source": [
    "df.head()"
   ]
  },
  {
   "cell_type": "markdown",
   "id": "aa57f13f",
   "metadata": {},
   "source": [
    "### General prediction preparation"
   ]
  },
  {
   "cell_type": "code",
   "execution_count": null,
   "id": "f30ccfbd",
   "metadata": {},
   "outputs": [],
   "source": [
    "#import the sklearn libarys \n",
    "from sklearn.linear_model import LinearRegression\n",
    "from sklearn import linear_model\n",
    "from sklearn.model_selection import train_test_split\n",
    "from sklearn.neighbors import KNeighborsRegressor\n",
    "from sklearn.tree import DecisionTreeRegressor\n",
    "from sklearn.ensemble import RandomForestRegressor\n",
    "from sklearn import metrics\n",
    "from sklearn.metrics import f1_score\n",
    "from sklearn.metrics import mean_squared_error\n",
    "import math"
   ]
  },
  {
   "cell_type": "code",
   "execution_count": null,
   "id": "0ec60018",
   "metadata": {},
   "outputs": [],
   "source": [
    "X=df.copy()\n",
    "y = df['baseRent']  #np.log() #with the log the prediction score gets better, but we found no usecase for that\n",
    "\n",
    "X.drop(['baseRent'],axis=1,inplace = True)\n",
    "\n",
    "X_train, X_test, y_train, y_test = train_test_split(X, y, test_size=0.33, shuffle= True)"
   ]
  },
  {
   "cell_type": "code",
   "execution_count": null,
   "id": "45f03048",
   "metadata": {},
   "outputs": [],
   "source": [
    "XD=df_dummies.copy()\n",
    "yd = df_dummies['baseRent']  #np.log() #with the log the prediction score gets better, but we found no usecase for that\n",
    "\n",
    "XD.drop(['baseRent'],axis=1,inplace = True)\n",
    "\n",
    "X_train_d, X_test_d, y_train_d, y_test_d = train_test_split(XD, yd, test_size=0.33, shuffle= True)"
   ]
  },
  {
   "cell_type": "markdown",
   "id": "09f0615d",
   "metadata": {},
   "source": [
    "### Linear Models"
   ]
  },
  {
   "cell_type": "code",
   "execution_count": null,
   "id": "0e72ac79",
   "metadata": {
    "scrolled": false
   },
   "outputs": [],
   "source": [
    "#with label encoder \n",
    "lineReg = LinearRegression()\n",
    "lineReg.fit(X_train, y_train)\n",
    "\n",
    "prediction = lineReg.predict(X_test)\n",
    "#f1_score = f1_score(y_test, prediction, average='micro')\n",
    "score_lineReg = lineReg.score(X_test,y_test)\n",
    "mse_error_lineReg =  metrics.mean_squared_error(y_test, prediction)\n",
    "rmse_lineReg = math.sqrt(mse_error_lineReg)\n",
    "print('Score: ', score_lineReg)\n",
    "print('RMSE: ', rmse_lineReg)\n",
    "#print('F1 Score: ', f1_score)\n",
    "\n",
    "\n",
    "plt.plot(prediction)\n",
    "plt.show()\n",
    "plt.plot(y_test)\n",
    "plt.show()\n",
    "\n",
    "print(\"Weights:\")\n",
    "weights_lineReg = get_weight_dict(df, 'baseRent', lineReg)\n",
    "weight_items_lineReg = weights_lineReg.items()\n",
    "first_weights_lineReg = list(weight_items_lineReg)[:2]\n",
    "weights_lineReg"
   ]
  },
  {
   "cell_type": "code",
   "execution_count": null,
   "id": "85719bb8",
   "metadata": {},
   "outputs": [],
   "source": [
    "#with dummies\n",
    "lineReg = LinearRegression()\n",
    "lineReg.fit(X_train_d, y_train_d)\n",
    "\n",
    "prediction = lineReg.predict(X_test_d)\n",
    "#f1_score = f1_score(y_test, prediction, average='micro')\n",
    "score_lineReg = lineReg.score(X_test_d,y_test_d)\n",
    "mse_error_lineReg =  metrics.mean_squared_error(y_test_d, prediction)\n",
    "rmse_lineReg = math.sqrt(mse_error_lineReg)\n",
    "print('Score: ', score_lineReg)\n",
    "print('MSE: ', rmse_lineReg)\n",
    "#print('F1 Score: ', f1_score)\n",
    "\n",
    "\n",
    "plt.plot(prediction)\n",
    "plt.show()\n",
    "plt.plot(y_test_d)\n",
    "plt.show()\n",
    "\n",
    "print(\"Weights:\")\n",
    "weights_lineReg = get_weight_dict(df_dummies, 'baseRent', lineReg)\n",
    "weight_items_lineReg = weights_lineReg.items()\n",
    "first_weights_lineReg = list(weight_items_lineReg)[:2]\n",
    "weights_lineReg"
   ]
  },
  {
   "cell_type": "code",
   "execution_count": null,
   "id": "e073d4d5",
   "metadata": {
    "scrolled": false
   },
   "outputs": [],
   "source": [
    "#with label encoder\n",
    "reg = linear_model.Ridge (alpha = .001)\n",
    "reg.fit(X_train, y_train)\n",
    "prediction = reg.predict(X_test)\n",
    "score_reg = reg.score(X_test, y_test)\n",
    "mse_error_reg =  metrics.mean_squared_error(y_test, prediction)\n",
    "rmse_reg = math.sqrt(mse_error_reg)\n",
    "print('Score: ', score_reg)\n",
    "print('MSE: ', mse_error_reg)\n",
    "\n",
    "\n",
    "plt.plot(reg.predict(X_test))\n",
    "plt.show()\n",
    "plt.plot(y_test)\n",
    "plt.show()\n",
    "\n",
    "print(\"Weights:\")\n",
    "weights_reg = get_weight_dict(df, 'baseRent', reg)\n",
    "weight_items_reg = weights_lineReg.items()\n",
    "first_weights_reg = list(weight_items_reg)[:2]\n",
    "weights_reg"
   ]
  },
  {
   "cell_type": "code",
   "execution_count": null,
   "id": "29a10720",
   "metadata": {},
   "outputs": [],
   "source": [
    "#with dummies\n",
    "reg = linear_model.Ridge (alpha = .001)\n",
    "reg.fit(X_train_d, y_train_d)\n",
    "prediction = reg.predict(X_test_d)\n",
    "score_reg = reg.score(X_test_d, y_test_d)\n",
    "mse_error_reg =  metrics.mean_squared_error(y_test_d, prediction)\n",
    "rmse_reg = math.sqrt(mse_error_reg)\n",
    "print('Score: ', score_reg)\n",
    "print('MSE: ', mse_error_reg)\n",
    "\n",
    "\n",
    "plt.plot(reg.predict(X_test_d))\n",
    "plt.show()\n",
    "plt.plot(y_test_d)\n",
    "plt.show()\n",
    "\n",
    "print(\"Weights:\")\n",
    "weights_reg = get_weight_dict(df_dummies, 'baseRent', reg)\n",
    "weight_items_reg = weights_lineReg.items()\n",
    "first_weights_reg = list(weight_items_reg)[:2]\n",
    "weights_reg"
   ]
  },
  {
   "cell_type": "code",
   "execution_count": null,
   "id": "6e5b88a7",
   "metadata": {},
   "outputs": [],
   "source": [
    "#with label encoder\n",
    "SGD = linear_model.SGDRegressor(alpha = 0.001)\n",
    "SGD.fit(X_train, y_train)\n",
    "prediction = SGD.predict(X_test)\n",
    "score_sgd = SGD.score(X_test, y_test)\n",
    "mse_error_sgd =  metrics.mean_squared_error(y_test, prediction)\n",
    "rmse_sgd = math.sqrt(mse_error_sgd)\n",
    "print('Score: ', score_sgd)\n",
    "print('RMSE: ', rmse_sgd)\n",
    "\n",
    "plt.plot(SGD.predict(X_test))\n",
    "plt.show()\n",
    "plt.plot(y_test)\n",
    "plt.show()\n",
    "\n",
    "print(\"Weights:\")\n",
    "weights_sgd = get_weight_dict(df, 'baseRent', SGD)\n",
    "weight_items_sgd = weights_sgd.items()\n",
    "first_weights_sgd = list(weight_items_sgd)[:2]\n",
    "weights_sgd"
   ]
  },
  {
   "cell_type": "code",
   "execution_count": null,
   "id": "87cdc30f",
   "metadata": {},
   "outputs": [],
   "source": [
    "#with dummies\n",
    "SGD = linear_model.SGDRegressor(alpha = 0.001)\n",
    "SGD.fit(X_train_d, y_train_d)\n",
    "prediction = SGD.predict(X_test_d)\n",
    "score_sgd = SGD.score(X_test_d, y_test_d)\n",
    "mse_error_sgd =  metrics.mean_squared_error(y_test_d, prediction)\n",
    "rmse_sgd = math.sqrt(mse_error_sgd)\n",
    "print('Score: ', score_sgd)\n",
    "print('RMSE: ', rmse_sgd)\n",
    "\n",
    "plt.plot(SGD.predict(X_test_d))\n",
    "plt.show()\n",
    "plt.plot(y_test_d)\n",
    "plt.show()\n",
    "\n",
    "print(\"Weights:\")\n",
    "weights_sgd = get_weight_dict(df_dummies, 'baseRent', SGD)\n",
    "weight_items_sgd = weights_sgd.items()\n",
    "first_weights_sgd = list(weight_items_sgd)[:2]\n",
    "weights_sgd"
   ]
  },
  {
   "cell_type": "markdown",
   "id": "533cb840",
   "metadata": {},
   "source": [
    "### Tree Models"
   ]
  },
  {
   "cell_type": "code",
   "execution_count": null,
   "id": "1a8a0c8e",
   "metadata": {},
   "outputs": [],
   "source": [
    "#with label encodeer\n",
    "tree = DecisionTreeRegressor(max_depth=10)\n",
    "tree.fit(X_train, y_train)\n",
    "prediction = tree.predict(X_test)\n",
    "score_tree = tree.score(X_test, y_test)\n",
    "mse_error_tree =  metrics.mean_squared_error(y_test, prediction)\n",
    "rmse_tree = math.sqrt(mse_error_tree)\n",
    "print('Score: ', score_tree)\n",
    "print('RMSE: ', rmse_tree)\n",
    "\n",
    "plt.plot(tree.predict(X_test))\n",
    "plt.show()\n",
    "plt.plot(y_test)\n",
    "plt.show()\n",
    "\n",
    "print(\"Weights:\")\n",
    "weights_tree =get_weight_dict(df, 'baseRent',tree)\n",
    "weight_items_tree = weights_tree.items()\n",
    "first_weights_tree = list(weight_items_tree)[:2]\n",
    "weights_tree"
   ]
  },
  {
   "cell_type": "code",
   "execution_count": null,
   "id": "1b979800",
   "metadata": {},
   "outputs": [],
   "source": [
    "#with dummies\n",
    "tree = DecisionTreeRegressor(max_depth=10)\n",
    "tree.fit(X_train_d, y_train_d)\n",
    "prediction = tree.predict(X_test_d)\n",
    "score_tree = tree.score(X_test_d, y_test_d)\n",
    "mse_error_tree =  metrics.mean_squared_error(y_test_d, prediction)\n",
    "rmse_tree = math.sqrt(mse_error_tree)\n",
    "print('Score: ', score_tree)\n",
    "print('RMSE: ', rmse_tree)\n",
    "\n",
    "plt.plot(tree.predict(X_test_d))\n",
    "plt.show()\n",
    "plt.plot(y_test_d)\n",
    "plt.show()\n",
    "\n",
    "print(\"Weights:\")\n",
    "weights_tree =get_weight_dict(df_dummies, 'baseRent',tree)\n",
    "weight_items_tree = weights_tree.items()\n",
    "first_weights_tree = list(weight_items_tree)[:2]\n",
    "weights_tree"
   ]
  },
  {
   "cell_type": "code",
   "execution_count": null,
   "id": "5c2e96b1",
   "metadata": {},
   "outputs": [],
   "source": [
    "#with label encoder\n",
    "random_forest = RandomForestRegressor(max_depth=15, random_state=0)\n",
    "random_forest.fit(X_train, y_train)\n",
    "prediction = random_forest.predict(X_test)\n",
    "score_random_forest = random_forest.score(X_test, y_test)\n",
    "mse_error_random_forest =  metrics.mean_squared_error(y_test, prediction)\n",
    "rmse_random_forest = math.sqrt(mse_error_random_forest)\n",
    "print('Score: ', score_random_forest)\n",
    "print('RMSE: ', rmse_random_forest)\n",
    "\n",
    "plt.plot(random_forest.predict(X_test))\n",
    "plt.show()\n",
    "plt.plot(y_test)\n",
    "plt.show()\n",
    "\n",
    "print(\"Weights:\")\n",
    "weights_random_forest = get_weight_dict(df, 'baseRent',random_forest)\n",
    "weight_items_random_forest = weights_random_forest.items()\n",
    "first_weights_random_forest = list(weight_items_random_forest)[:2]\n",
    "weights_random_forest"
   ]
  },
  {
   "cell_type": "code",
   "execution_count": null,
   "id": "100db0df",
   "metadata": {},
   "outputs": [],
   "source": [
    "#with dummies\n",
    "random_forest = RandomForestRegressor(max_depth=15, random_state=0)\n",
    "random_forest.fit(X_train_d, y_train_d)\n",
    "prediction = random_forest.predict(X_test_d)\n",
    "score_random_forest = random_forest.score(X_test_d, y_test_d)\n",
    "mse_error_random_forest =  metrics.mean_squared_error(y_test_d, prediction)\n",
    "rmse_random_forest = math.sqrt(mse_error_random_forest)\n",
    "print('Score: ', score_random_forest)\n",
    "print('RMSE: ', rmse_random_forest)\n",
    "\n",
    "plt.plot(random_forest.predict(X_test_d))\n",
    "plt.show()\n",
    "plt.plot(y_test_d)\n",
    "plt.show()\n",
    "\n",
    "print(\"Weights:\")\n",
    "weights_random_forest = get_weight_dict(df_dummies, 'baseRent',random_forest)\n",
    "weight_items_random_forest = weights_random_forest.items()\n",
    "first_weights_random_forest = list(weight_items_random_forest)[:2]\n",
    "weights_random_forest"
   ]
  },
  {
   "cell_type": "markdown",
   "id": "6a2af24f",
   "metadata": {},
   "source": [
    "### KNN Model"
   ]
  },
  {
   "cell_type": "code",
   "execution_count": null,
   "id": "24a7ed2f",
   "metadata": {},
   "outputs": [],
   "source": [
    "#with label encoder\n",
    "knn_model = KNeighborsRegressor(n_neighbors=3)\n",
    "knn_model.fit(X_train, y_train)\n",
    "prediction = knn_model.predict(X_test)\n",
    "score_knn = knn_model.score(X_test, y_test)\n",
    "mse_error_knn =  metrics.mean_squared_error(y_test, prediction)\n",
    "rmse_knn = math.sqrt(mse_error_knn)\n",
    "print('Score: ', score_knn)\n",
    "print('RMSE: ', rmse_knn)\n",
    "\n",
    "plt.plot(knn_model.predict(X_test))\n",
    "plt.plot(y_test)\n",
    "plt.show()\n"
   ]
  },
  {
   "cell_type": "code",
   "execution_count": null,
   "id": "1e79f1d2",
   "metadata": {},
   "outputs": [],
   "source": [
    "#with dummies\n",
    "knn_model = KNeighborsRegressor(n_neighbors=3)\n",
    "knn_model.fit(X_train_d, y_train_d)\n",
    "prediction = knn_model.predict(X_test_d)\n",
    "score_knn = knn_model.score(X_test_d, y_test_d)\n",
    "mse_error_knn =  metrics.mean_squared_error(y_test_d, prediction)\n",
    "rmse_knn = math.sqrt(mse_error_knn)\n",
    "print('Score: ', score_knn)\n",
    "print('RMSE: ', rmse_knn)\n",
    "\n",
    "plt.plot(knn_model.predict(X_test_d))\n",
    "plt.plot(y_test_d)\n",
    "plt.show()"
   ]
  },
  {
   "cell_type": "markdown",
   "id": "de714a4e",
   "metadata": {},
   "source": [
    "<h3> Result <h3>"
   ]
  },
  {
   "cell_type": "code",
   "execution_count": null,
   "id": "8a171a3f",
   "metadata": {},
   "outputs": [],
   "source": [
    "results_f= {\"Model\": [\"Linear Regression\", \"Ridge Regression\",\"SGD Regressor\",\"Decision Tree\",\"Random Forest\",\"KNN\"], \n",
    "          \"Score\": [score_lineReg, score_reg, score_sgd, score_tree, score_random_forest, score_knn], \n",
    "          \"RMSE Error\": [rmse_lineReg, rmse_reg, rmse_sgd, rmse_tree, rmse_random_forest, rmse_knn],\n",
    "         \"Important Features\": [first_weights_lineReg, first_weights_reg, first_weights_sgd, first_weights_tree, first_weights_random_forest, \"Undefined\"]}\n",
    "df_results_f = pd.DataFrame(data=results)\n",
    "df_results_f"
   ]
  },
  {
   "cell_type": "code",
   "execution_count": null,
   "id": "0949fdbc",
   "metadata": {},
   "outputs": [],
   "source": [
    "results_d= {\"Model\": [\"Linear Regression\", \"Ridge Regression\",\"SGD Regressor\",\"Decision Tree\",\"Random Forest\",\"KNN\"], \n",
    "          \"Score\": [score_lineReg, score_reg, score_sgd, score_tree, score_random_forest, score_knn], \n",
    "          \"RMSE Error\": [rmse_lineReg, rmse_reg, rmse_sgd, rmse_tree, rmse_random_forest, rmse_knn],\n",
    "         \"Important Features\": [first_weights_lineReg, first_weights_reg, first_weights_sgd, first_weights_tree, first_weights_random_forest, \"Undefined\"]}\n",
    "df_results_d = pd.DataFrame(data=results)\n",
    "df_results_d"
   ]
  },
  {
   "cell_type": "markdown",
   "id": "4c57b58a",
   "metadata": {},
   "source": [
    "## 4. Map Visualization"
   ]
  },
  {
   "cell_type": "code",
   "execution_count": null,
   "id": "2517a1c8",
   "metadata": {},
   "outputs": [],
   "source": [
    "#imports\n",
    "import math"
   ]
  },
  {
   "cell_type": "code",
   "execution_count": null,
   "id": "4cae6b6e",
   "metadata": {},
   "outputs": [],
   "source": [
    "#Load Location Dataframe\n",
    "path_plz = \"plz_geocoord.csv\"\n",
    "df_plz = pd.read_csv(path_plz)\n",
    "pd.set_option('display.max_columns', None)\n",
    "df_plz.columns = ['geo_plz', 'lat', 'lon']\n",
    "df_plz = df_plz.set_index('geo_plz')"
   ]
  },
  {
   "cell_type": "code",
   "execution_count": null,
   "id": "5eaf643f",
   "metadata": {},
   "outputs": [],
   "source": [
    "geo_df = df[[\"baseRent\", \"geo_plz\"]].copy()\n",
    "geo_df['count'] = 1"
   ]
  },
  {
   "cell_type": "code",
   "execution_count": null,
   "id": "f99a0c1d",
   "metadata": {},
   "outputs": [],
   "source": [
    "geo_df = geo_df.groupby('geo_plz', as_index=False).sum()\n",
    "geo_df['meanRent'] = geo_df['baseRent']/(geo_df['count']*geo_df['count'])\n",
    "#geo_df['logRent'] = np.log2(geo_df['meanRent'])**(1/2)\n",
    "#geo_df['logRent'] = geo_df['logRent']*geo_df['count']\n",
    "#geo_df.head(20)"
   ]
  },
  {
   "cell_type": "code",
   "execution_count": null,
   "id": "0934b667",
   "metadata": {},
   "outputs": [],
   "source": [
    "#add Lat and Lon to the DF\n",
    "def merge_df(df1, df2, att):\n",
    "    t0 = time.time()\n",
    "    results_df = df1.merge(df2, how='inner', on=att)\n",
    "    t1 = time.time()\n",
    "    total = t1-t0\n",
    "    print(\"It took {} Sec. to get {} Lat and Lon Data Pionts\".format(total, results_df.shape[0]))\n",
    "    return results_df\n",
    "\n",
    "geo_df = merge_df(geo_df, df_plz, 'geo_plz')"
   ]
  },
  {
   "cell_type": "code",
   "execution_count": null,
   "id": "e69cd9c5",
   "metadata": {},
   "outputs": [],
   "source": [
    "\"\"\"\n",
    "import geopandas as gpd\n",
    "fp = \"geomap/vg2500_bld.shp\"\n",
    "map_df = gpd.read_file(fp)\n",
    "map_df.head()\n",
    "map_df.plot()\n",
    "\"\"\""
   ]
  },
  {
   "cell_type": "code",
   "execution_count": null,
   "id": "de90e1d6",
   "metadata": {},
   "outputs": [],
   "source": [
    "plt.rcParams[\"figure.figsize\"] = (24,37)\n",
    "plt.scatter(x=geo_df['lon'], y=geo_df['lat'], s=geo_df[\"meanRent\"])\n",
    "plt.show()"
   ]
  },
  {
   "cell_type": "code",
   "execution_count": null,
   "id": "3b5aa3c9",
   "metadata": {},
   "outputs": [],
   "source": [
    "\n",
    "\n",
    "plt.rcParams[\"figure.figsize\"] = (24,37)\n",
    "#plt.scatter(x=geo_df['lon'], y=geo_df['lat'], s=geo_df[\"meanRent\"])\n",
    "#plt.show()\n",
    "\n",
    "\n",
    "\n",
    "img = plt.imread(\"geomap/germany_lines.png\")\n",
    "fig, ax = plt.subplots()\n",
    "ax.scatter(x=geo_df['lon'], y=geo_df['lat'], s=geo_df[\"meanRent\"])\n",
    "ax.imshow(img, extent=[5.5, 15.5, 47, 55.22])\n",
    "plt.show()"
   ]
  },
  {
   "cell_type": "code",
   "execution_count": null,
   "id": "93b4eda1",
   "metadata": {},
   "outputs": [],
   "source": [
    "img = plt.imread(\"rain.jpg\")\n",
    "fig, ax = plt.subplots()\n",
    "ax.imshow(img, extent=[-5, 80, -5, 30])\n",
    "ax.scatter(TMIN, PRCP, color=\"#ebb734\")\n",
    "plt.show()"
   ]
  },
  {
   "cell_type": "code",
   "execution_count": null,
   "id": "7f5ca09a",
   "metadata": {},
   "outputs": [],
   "source": []
  }
 ],
 "metadata": {
  "kernelspec": {
   "display_name": "Python 3 (ipykernel)",
   "language": "python",
   "name": "python3"
  },
  "language_info": {
   "codemirror_mode": {
    "name": "ipython",
    "version": 3
   },
   "file_extension": ".py",
   "mimetype": "text/x-python",
   "name": "python",
   "nbconvert_exporter": "python",
   "pygments_lexer": "ipython3",
   "version": "3.9.5"
  }
 },
 "nbformat": 4,
 "nbformat_minor": 5
}
